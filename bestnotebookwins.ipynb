{
  "nbformat": 4,
  "nbformat_minor": 0,
  "metadata": {
    "colab": {
      "name": "bestnotebookwins.ipynb",
      "provenance": [],
      "collapsed_sections": [],
      "authorship_tag": "ABX9TyPDcee6RpVvuqEaSdPUc+br",
      "include_colab_link": true
    },
    "kernelspec": {
      "name": "python3",
      "display_name": "Python 3"
    },
    "language_info": {
      "name": "python"
    }
  },
  "cells": [
    {
      "cell_type": "markdown",
      "metadata": {
        "id": "view-in-github",
        "colab_type": "text"
      },
      "source": [
        "<a href=\"https://colab.research.google.com/github/m-dwaipayan/CDB22DW022-Dwaipayan/blob/main/bestnotebookwins.ipynb\" target=\"_parent\"><img src=\"https://colab.research.google.com/assets/colab-badge.svg\" alt=\"Open In Colab\"/></a>"
      ]
    },
    {
      "cell_type": "code",
      "execution_count": 10,
      "metadata": {
        "id": "F_e7BK1Tm6-D"
      },
      "outputs": [],
      "source": [
        "# Creating two lists\n",
        "list1 = [45,64,1,7,90,32,125,88,642,2]\n",
        "list2 = ['Apple','Banana','Jackfruit','Watermelon','Peach','Pomegranate']"
      ]
    },
    {
      "cell_type": "markdown",
      "source": [
        "A list is a collection of objects, which are ordered and indexed. Items can be string or numbers. The index starts with 0."
      ],
      "metadata": {
        "id": "ieZDMlkWokYb"
      }
    },
    {
      "cell_type": "markdown",
      "source": [
        "We can use the dir() function on any list to see all the operations and functions that can be done on it."
      ],
      "metadata": {
        "id": "6ItiWTmEpCnl"
      }
    },
    {
      "cell_type": "code",
      "source": [
        "dir(list1)"
      ],
      "metadata": {
        "colab": {
          "base_uri": "https://localhost:8080/"
        },
        "id": "ktxYckHIojOd",
        "outputId": "fcce38cd-4a5f-4e0e-f499-da25bbefbf9b"
      },
      "execution_count": 3,
      "outputs": [
        {
          "output_type": "execute_result",
          "data": {
            "text/plain": [
              "['__add__',\n",
              " '__class__',\n",
              " '__contains__',\n",
              " '__delattr__',\n",
              " '__delitem__',\n",
              " '__dir__',\n",
              " '__doc__',\n",
              " '__eq__',\n",
              " '__format__',\n",
              " '__ge__',\n",
              " '__getattribute__',\n",
              " '__getitem__',\n",
              " '__gt__',\n",
              " '__hash__',\n",
              " '__iadd__',\n",
              " '__imul__',\n",
              " '__init__',\n",
              " '__init_subclass__',\n",
              " '__iter__',\n",
              " '__le__',\n",
              " '__len__',\n",
              " '__lt__',\n",
              " '__mul__',\n",
              " '__ne__',\n",
              " '__new__',\n",
              " '__reduce__',\n",
              " '__reduce_ex__',\n",
              " '__repr__',\n",
              " '__reversed__',\n",
              " '__rmul__',\n",
              " '__setattr__',\n",
              " '__setitem__',\n",
              " '__sizeof__',\n",
              " '__str__',\n",
              " '__subclasshook__',\n",
              " 'append',\n",
              " 'clear',\n",
              " 'copy',\n",
              " 'count',\n",
              " 'extend',\n",
              " 'index',\n",
              " 'insert',\n",
              " 'pop',\n",
              " 'remove',\n",
              " 'reverse',\n",
              " 'sort']"
            ]
          },
          "metadata": {},
          "execution_count": 3
        }
      ]
    },
    {
      "cell_type": "code",
      "source": [
        "# Appending to a list\n",
        "list1.append(45)\n",
        "list2.append('Pine')"
      ],
      "metadata": {
        "id": "cDECRkJMo_I3"
      },
      "execution_count": 11,
      "outputs": []
    },
    {
      "cell_type": "markdown",
      "source": [
        "The append() allows us to add elements to the end of a list."
      ],
      "metadata": {
        "id": "vzRB10bvphhA"
      }
    },
    {
      "cell_type": "code",
      "source": [
        "print(list1)"
      ],
      "metadata": {
        "colab": {
          "base_uri": "https://localhost:8080/"
        },
        "id": "6yzuJrFXpgDB",
        "outputId": "ae6c8ed7-3d23-479f-d9b6-a6fe2fd21c39"
      },
      "execution_count": 12,
      "outputs": [
        {
          "output_type": "stream",
          "name": "stdout",
          "text": [
            "[45, 64, 1, 7, 90, 32, 125, 88, 642, 2, 45]\n"
          ]
        }
      ]
    },
    {
      "cell_type": "code",
      "source": [
        "print(list2)"
      ],
      "metadata": {
        "colab": {
          "base_uri": "https://localhost:8080/"
        },
        "id": "fTML7AMKp5xW",
        "outputId": "936069e2-03e4-4fae-a268-42b2c861cdd3"
      },
      "execution_count": 14,
      "outputs": [
        {
          "output_type": "stream",
          "name": "stdout",
          "text": [
            "['Apple', 'Banana', 'Jackfruit', 'Watermelon', 'Peach', 'Pomegranate', 'Pine']\n"
          ]
        }
      ]
    },
    {
      "cell_type": "code",
      "source": [
        "list3 = [5,6,7,8,9]"
      ],
      "metadata": {
        "id": "aTyjtnC4qtc3"
      },
      "execution_count": 18,
      "outputs": []
    },
    {
      "cell_type": "code",
      "source": [
        "list3"
      ],
      "metadata": {
        "colab": {
          "base_uri": "https://localhost:8080/"
        },
        "id": "zekqt_lDrCzN",
        "outputId": "a7bc7f47-b9bc-47bd-e6b3-e6140ac49356"
      },
      "execution_count": 19,
      "outputs": [
        {
          "output_type": "execute_result",
          "data": {
            "text/plain": [
              "[5, 6, 7, 8, 9]"
            ]
          },
          "metadata": {},
          "execution_count": 19
        }
      ]
    },
    {
      "cell_type": "code",
      "source": [
        "# Removing all elements from a list\n",
        "list3.clear()"
      ],
      "metadata": {
        "id": "6q_Db9Zqp7Yh"
      },
      "execution_count": 22,
      "outputs": []
    },
    {
      "cell_type": "markdown",
      "source": [
        "clear() removes all elements from a list."
      ],
      "metadata": {
        "id": "3Qbg5cgcrQAp"
      }
    },
    {
      "cell_type": "code",
      "source": [
        "list3"
      ],
      "metadata": {
        "colab": {
          "base_uri": "https://localhost:8080/"
        },
        "id": "4NnKzIiCqz9Z",
        "outputId": "00498239-c015-4e29-b603-0fc277201c78"
      },
      "execution_count": 24,
      "outputs": [
        {
          "output_type": "execute_result",
          "data": {
            "text/plain": [
              "[]"
            ]
          },
          "metadata": {},
          "execution_count": 24
        }
      ]
    },
    {
      "cell_type": "code",
      "source": [
        "# Copying a list\n",
        "x = list2.copy()"
      ],
      "metadata": {
        "id": "rkxAc5qDrLES"
      },
      "execution_count": 25,
      "outputs": []
    },
    {
      "cell_type": "markdown",
      "source": [
        "copy() copies all elements of a list onto another list."
      ],
      "metadata": {
        "id": "13RNHyiarjtU"
      }
    },
    {
      "cell_type": "code",
      "source": [
        "x"
      ],
      "metadata": {
        "colab": {
          "base_uri": "https://localhost:8080/"
        },
        "id": "ggIsWuj_ric3",
        "outputId": "fe944bd2-5fea-4bfb-c2c8-90d3951d015f"
      },
      "execution_count": 26,
      "outputs": [
        {
          "output_type": "execute_result",
          "data": {
            "text/plain": [
              "['Apple', 'Banana', 'Jackfruit', 'Watermelon', 'Peach', 'Pomegranate', 'Pine']"
            ]
          },
          "metadata": {},
          "execution_count": 26
        }
      ]
    },
    {
      "cell_type": "code",
      "source": [
        "# Counting elements in a list\n",
        "list1.count(45)"
      ],
      "metadata": {
        "colab": {
          "base_uri": "https://localhost:8080/"
        },
        "id": "5S6GzE81rqHO",
        "outputId": "2501055d-d82a-4448-f777-2653c01d3373"
      },
      "execution_count": 28,
      "outputs": [
        {
          "output_type": "execute_result",
          "data": {
            "text/plain": [
              "2"
            ]
          },
          "metadata": {},
          "execution_count": 28
        }
      ]
    },
    {
      "cell_type": "markdown",
      "source": [
        "count() returns the number of times the element is present in the list."
      ],
      "metadata": {
        "id": "yhqYeyKur4xz"
      }
    },
    {
      "cell_type": "code",
      "source": [
        "new_list2 = ['Mango','Pineapple']"
      ],
      "metadata": {
        "id": "qYUv4v52rz72"
      },
      "execution_count": 29,
      "outputs": []
    },
    {
      "cell_type": "code",
      "source": [
        "# Extending an existing list\n",
        "list2.extend(new_list2)"
      ],
      "metadata": {
        "id": "FlvNB3N8sX-I"
      },
      "execution_count": 30,
      "outputs": []
    },
    {
      "cell_type": "markdown",
      "source": [
        "extend() allows to extend an existing list at the end by multiple elements from another list."
      ],
      "metadata": {
        "id": "Syv_E6GgskFW"
      }
    },
    {
      "cell_type": "code",
      "source": [
        "list2"
      ],
      "metadata": {
        "colab": {
          "base_uri": "https://localhost:8080/"
        },
        "id": "3tKWc58jsb5q",
        "outputId": "88ee6110-7d44-4092-a5e1-9e8d2d203c8c"
      },
      "execution_count": 32,
      "outputs": [
        {
          "output_type": "execute_result",
          "data": {
            "text/plain": [
              "['Apple',\n",
              " 'Banana',\n",
              " 'Jackfruit',\n",
              " 'Watermelon',\n",
              " 'Peach',\n",
              " 'Pomegranate',\n",
              " 'Pine',\n",
              " 'Mango',\n",
              " 'Pineapple']"
            ]
          },
          "metadata": {},
          "execution_count": 32
        }
      ]
    },
    {
      "cell_type": "code",
      "source": [
        "# Finding an element using index\n",
        "list2.index('Peach')"
      ],
      "metadata": {
        "colab": {
          "base_uri": "https://localhost:8080/"
        },
        "id": "BBER4u1ysdm7",
        "outputId": "c13e5171-98fc-452f-f44e-7766ecc8478c"
      },
      "execution_count": 33,
      "outputs": [
        {
          "output_type": "execute_result",
          "data": {
            "text/plain": [
              "4"
            ]
          },
          "metadata": {},
          "execution_count": 33
        }
      ]
    },
    {
      "cell_type": "markdown",
      "source": [
        "index() returns the index of the first occurance of the element passed into the index function."
      ],
      "metadata": {
        "id": "JXOi1YFxtJZr"
      }
    },
    {
      "cell_type": "code",
      "source": [
        "# Inserting a new element into a specific position\n",
        "list2.insert(4,'Cashew')"
      ],
      "metadata": {
        "id": "yjYamoLDtIgS"
      },
      "execution_count": 34,
      "outputs": []
    },
    {
      "cell_type": "markdown",
      "source": [
        "insert() allows us to insert a particular element at a particular position of an existing list using the index."
      ],
      "metadata": {
        "id": "2qKCsnjetmer"
      }
    },
    {
      "cell_type": "code",
      "source": [
        "print(list2)"
      ],
      "metadata": {
        "colab": {
          "base_uri": "https://localhost:8080/"
        },
        "id": "dbFDDYSatlYL",
        "outputId": "0ad6f25c-6ff9-40c4-b59d-9ed6ddf38b93"
      },
      "execution_count": 36,
      "outputs": [
        {
          "output_type": "stream",
          "name": "stdout",
          "text": [
            "['Apple', 'Banana', 'Jackfruit', 'Watermelon', 'Cashew', 'Peach', 'Pomegranate', 'Pine', 'Mango', 'Pineapple']\n"
          ]
        }
      ]
    },
    {
      "cell_type": "code",
      "source": [
        "# Removing an element at a specific position\n",
        "list2.pop(4)"
      ],
      "metadata": {
        "colab": {
          "base_uri": "https://localhost:8080/",
          "height": 35
        },
        "id": "8LzjN9GGt2pQ",
        "outputId": "690e4936-17e3-4df4-ea67-c6e7f3f6fef3"
      },
      "execution_count": 38,
      "outputs": [
        {
          "output_type": "execute_result",
          "data": {
            "text/plain": [
              "'Cashew'"
            ],
            "application/vnd.google.colaboratory.intrinsic+json": {
              "type": "string"
            }
          },
          "metadata": {},
          "execution_count": 38
        }
      ]
    },
    {
      "cell_type": "markdown",
      "source": [
        "pop() removes the element at the specified position mentioned in the pop()."
      ],
      "metadata": {
        "id": "0CXv_IZQuR09"
      }
    },
    {
      "cell_type": "code",
      "source": [
        "print(list2)"
      ],
      "metadata": {
        "colab": {
          "base_uri": "https://localhost:8080/"
        },
        "id": "wsbYJUg9uD6t",
        "outputId": "17368ce4-2fef-4355-f400-caad18628e2d"
      },
      "execution_count": 40,
      "outputs": [
        {
          "output_type": "stream",
          "name": "stdout",
          "text": [
            "['Apple', 'Banana', 'Jackfruit', 'Watermelon', 'Peach', 'Pomegranate', 'Pine', 'Mango', 'Pineapple']\n"
          ]
        }
      ]
    },
    {
      "cell_type": "code",
      "source": [
        "list1"
      ],
      "metadata": {
        "colab": {
          "base_uri": "https://localhost:8080/"
        },
        "id": "Zj4cpw1NuuIH",
        "outputId": "7a0181f8-eb66-43d0-88b5-cca765578ddb"
      },
      "execution_count": 41,
      "outputs": [
        {
          "output_type": "execute_result",
          "data": {
            "text/plain": [
              "[45, 64, 1, 7, 90, 32, 125, 88, 642, 2, 45]"
            ]
          },
          "metadata": {},
          "execution_count": 41
        }
      ]
    },
    {
      "cell_type": "code",
      "source": [
        "# Removing the first appearance of an item\n",
        "list1.remove(45)"
      ],
      "metadata": {
        "id": "1WWY1MjsuPcg"
      },
      "execution_count": 42,
      "outputs": []
    },
    {
      "cell_type": "markdown",
      "source": [
        "remove() removes the first appearance of the specified element from the list."
      ],
      "metadata": {
        "id": "48Xn9sfnu2A4"
      }
    },
    {
      "cell_type": "code",
      "source": [
        "print(list1)"
      ],
      "metadata": {
        "colab": {
          "base_uri": "https://localhost:8080/"
        },
        "id": "0cGO_nSSuxU_",
        "outputId": "bd27c840-eee4-41f2-f849-8faae9d1c134"
      },
      "execution_count": 44,
      "outputs": [
        {
          "output_type": "stream",
          "name": "stdout",
          "text": [
            "[64, 1, 7, 90, 32, 125, 88, 642, 2, 45]\n"
          ]
        }
      ]
    },
    {
      "cell_type": "code",
      "source": [
        "# Reversing the order of the list \n",
        "list1.reverse()\n"
      ],
      "metadata": {
        "id": "jHu5y1o0uzX1"
      },
      "execution_count": 45,
      "outputs": []
    },
    {
      "cell_type": "markdown",
      "source": [
        "reverse() returns the elements of a list in a reversed order."
      ],
      "metadata": {
        "id": "EmPZS8zBvZny"
      }
    },
    {
      "cell_type": "code",
      "source": [
        "list1"
      ],
      "metadata": {
        "colab": {
          "base_uri": "https://localhost:8080/"
        },
        "id": "sm1Ie-UlvYsB",
        "outputId": "517f5e36-2150-48a3-a9e6-d3c46d345acb"
      },
      "execution_count": 46,
      "outputs": [
        {
          "output_type": "execute_result",
          "data": {
            "text/plain": [
              "[45, 2, 642, 88, 125, 32, 90, 7, 1, 64]"
            ]
          },
          "metadata": {},
          "execution_count": 46
        }
      ]
    },
    {
      "cell_type": "code",
      "source": [
        "# Sorting a list\n",
        "list1.sort()"
      ],
      "metadata": {
        "id": "uPEqRdibvhQV"
      },
      "execution_count": 47,
      "outputs": []
    },
    {
      "cell_type": "markdown",
      "source": [
        "sort() returns the elements in an ascending order."
      ],
      "metadata": {
        "id": "x7frEbpDvyRX"
      }
    },
    {
      "cell_type": "code",
      "source": [
        "print(list1)"
      ],
      "metadata": {
        "colab": {
          "base_uri": "https://localhost:8080/"
        },
        "id": "pejsi-nrvukT",
        "outputId": "d94f23a6-8d20-46e8-fa09-d0cfbec8eaa7"
      },
      "execution_count": 49,
      "outputs": [
        {
          "output_type": "stream",
          "name": "stdout",
          "text": [
            "[1, 2, 7, 32, 45, 64, 88, 90, 125, 642]\n"
          ]
        }
      ]
    },
    {
      "cell_type": "code",
      "source": [
        "# Creating a tuple\n",
        "tup = (4,7,9,1,3,2)"
      ],
      "metadata": {
        "id": "z4d50phqvxAV"
      },
      "execution_count": 50,
      "outputs": []
    },
    {
      "cell_type": "markdown",
      "source": [
        "A tuple is read-only and cannot be altered after being created."
      ],
      "metadata": {
        "id": "Ugjvi0QTwJrB"
      }
    },
    {
      "cell_type": "code",
      "source": [
        "dir(tup)"
      ],
      "metadata": {
        "colab": {
          "base_uri": "https://localhost:8080/"
        },
        "id": "2-V_mGIZxKLY",
        "outputId": "3ad79858-235c-40f5-a942-34471a96a61a"
      },
      "execution_count": 53,
      "outputs": [
        {
          "output_type": "execute_result",
          "data": {
            "text/plain": [
              "['__add__',\n",
              " '__class__',\n",
              " '__contains__',\n",
              " '__delattr__',\n",
              " '__dir__',\n",
              " '__doc__',\n",
              " '__eq__',\n",
              " '__format__',\n",
              " '__ge__',\n",
              " '__getattribute__',\n",
              " '__getitem__',\n",
              " '__getnewargs__',\n",
              " '__gt__',\n",
              " '__hash__',\n",
              " '__init__',\n",
              " '__init_subclass__',\n",
              " '__iter__',\n",
              " '__le__',\n",
              " '__len__',\n",
              " '__lt__',\n",
              " '__mul__',\n",
              " '__ne__',\n",
              " '__new__',\n",
              " '__reduce__',\n",
              " '__reduce_ex__',\n",
              " '__repr__',\n",
              " '__rmul__',\n",
              " '__setattr__',\n",
              " '__sizeof__',\n",
              " '__str__',\n",
              " '__subclasshook__',\n",
              " 'count',\n",
              " 'index']"
            ]
          },
          "metadata": {},
          "execution_count": 53
        }
      ]
    },
    {
      "cell_type": "code",
      "source": [
        "# counting the no. of appearances of an element\n",
        "tup.count(7)"
      ],
      "metadata": {
        "colab": {
          "base_uri": "https://localhost:8080/"
        },
        "id": "4n7ts93cwI5Q",
        "outputId": "71aa449b-0d75-4c42-b342-341744d3a70c"
      },
      "execution_count": 51,
      "outputs": [
        {
          "output_type": "execute_result",
          "data": {
            "text/plain": [
              "1"
            ]
          },
          "metadata": {},
          "execution_count": 51
        }
      ]
    },
    {
      "cell_type": "markdown",
      "source": [
        "count() returns the number of times an element is present in a tuple."
      ],
      "metadata": {
        "id": "zuXrClb8whD4"
      }
    },
    {
      "cell_type": "code",
      "source": [
        "# Index of an element\n",
        "tup.index(4)"
      ],
      "metadata": {
        "colab": {
          "base_uri": "https://localhost:8080/"
        },
        "id": "Xl8lymynwfsW",
        "outputId": "c44b34e9-fcd5-494e-fb0a-38fc8ba0919a"
      },
      "execution_count": 52,
      "outputs": [
        {
          "output_type": "execute_result",
          "data": {
            "text/plain": [
              "0"
            ]
          },
          "metadata": {},
          "execution_count": 52
        }
      ]
    },
    {
      "cell_type": "markdown",
      "source": [
        "index() returns the index position of the element passed into it in a tuple."
      ],
      "metadata": {
        "id": "kZTyBUStw3CJ"
      }
    },
    {
      "cell_type": "code",
      "source": [
        "# Creating three set\n",
        "set1 = {1,43,2,5,56,9,90}\n",
        "set2 = {1,43,9}\n",
        "set3 = {99,141,56,90,485}"
      ],
      "metadata": {
        "id": "-uIE3cQcw0W6"
      },
      "execution_count": 54,
      "outputs": []
    },
    {
      "cell_type": "markdown",
      "source": [
        "Sets are unindexed and unordered collections of unique elements."
      ],
      "metadata": {
        "id": "dHkBlT8oxr9L"
      }
    },
    {
      "cell_type": "code",
      "source": [
        "dir(set1)"
      ],
      "metadata": {
        "colab": {
          "base_uri": "https://localhost:8080/"
        },
        "id": "19imxMzVxqqP",
        "outputId": "649d670f-71e0-4462-9a96-3e14f2ae9785"
      },
      "execution_count": 55,
      "outputs": [
        {
          "output_type": "execute_result",
          "data": {
            "text/plain": [
              "['__and__',\n",
              " '__class__',\n",
              " '__contains__',\n",
              " '__delattr__',\n",
              " '__dir__',\n",
              " '__doc__',\n",
              " '__eq__',\n",
              " '__format__',\n",
              " '__ge__',\n",
              " '__getattribute__',\n",
              " '__gt__',\n",
              " '__hash__',\n",
              " '__iand__',\n",
              " '__init__',\n",
              " '__init_subclass__',\n",
              " '__ior__',\n",
              " '__isub__',\n",
              " '__iter__',\n",
              " '__ixor__',\n",
              " '__le__',\n",
              " '__len__',\n",
              " '__lt__',\n",
              " '__ne__',\n",
              " '__new__',\n",
              " '__or__',\n",
              " '__rand__',\n",
              " '__reduce__',\n",
              " '__reduce_ex__',\n",
              " '__repr__',\n",
              " '__ror__',\n",
              " '__rsub__',\n",
              " '__rxor__',\n",
              " '__setattr__',\n",
              " '__sizeof__',\n",
              " '__str__',\n",
              " '__sub__',\n",
              " '__subclasshook__',\n",
              " '__xor__',\n",
              " 'add',\n",
              " 'clear',\n",
              " 'copy',\n",
              " 'difference',\n",
              " 'difference_update',\n",
              " 'discard',\n",
              " 'intersection',\n",
              " 'intersection_update',\n",
              " 'isdisjoint',\n",
              " 'issubset',\n",
              " 'issuperset',\n",
              " 'pop',\n",
              " 'remove',\n",
              " 'symmetric_difference',\n",
              " 'symmetric_difference_update',\n",
              " 'union',\n",
              " 'update']"
            ]
          },
          "metadata": {},
          "execution_count": 55
        }
      ]
    },
    {
      "cell_type": "code",
      "source": [
        "# Adding an element to a set\n",
        "set3.add(46)"
      ],
      "metadata": {
        "id": "TE6ASQcax9bn"
      },
      "execution_count": 56,
      "outputs": []
    },
    {
      "cell_type": "markdown",
      "source": [
        "add() adds an element to an existing set only if the new element is not already present in the set."
      ],
      "metadata": {
        "id": "e3XiQYRzyU1N"
      }
    },
    {
      "cell_type": "code",
      "source": [
        "print(set3)"
      ],
      "metadata": {
        "colab": {
          "base_uri": "https://localhost:8080/"
        },
        "id": "LeqbIluoyIjs",
        "outputId": "ead0df7c-0d84-498a-ab7a-8c264aee8376"
      },
      "execution_count": 58,
      "outputs": [
        {
          "output_type": "stream",
          "name": "stdout",
          "text": [
            "{99, 485, 141, 46, 56, 90}\n"
          ]
        }
      ]
    },
    {
      "cell_type": "code",
      "source": [
        "set4 = {1,6,'new',False}"
      ],
      "metadata": {
        "id": "fOxzkn8cyJ6G"
      },
      "execution_count": 59,
      "outputs": []
    },
    {
      "cell_type": "code",
      "source": [
        "# removing all elements from a set\n",
        "set4.clear()"
      ],
      "metadata": {
        "id": "kp_iYS7myrNR"
      },
      "execution_count": 60,
      "outputs": []
    },
    {
      "cell_type": "markdown",
      "source": [
        "clear() empties the set."
      ],
      "metadata": {
        "id": "zo4k57aUy2we"
      }
    },
    {
      "cell_type": "code",
      "source": [
        "print(set4)"
      ],
      "metadata": {
        "colab": {
          "base_uri": "https://localhost:8080/"
        },
        "id": "PXqtL2Tyyu37",
        "outputId": "e18894aa-7c00-4db2-c95c-93fb12ea937b"
      },
      "execution_count": 62,
      "outputs": [
        {
          "output_type": "stream",
          "name": "stdout",
          "text": [
            "set()\n"
          ]
        }
      ]
    },
    {
      "cell_type": "code",
      "source": [
        "# Copying the set\n",
        "x = set1.copy()"
      ],
      "metadata": {
        "id": "ymZbqDeZyxC_"
      },
      "execution_count": 63,
      "outputs": []
    },
    {
      "cell_type": "markdown",
      "source": [
        "This copies the set."
      ],
      "metadata": {
        "id": "HgE6xmsxzGao"
      }
    },
    {
      "cell_type": "code",
      "source": [
        "print(x)"
      ],
      "metadata": {
        "colab": {
          "base_uri": "https://localhost:8080/"
        },
        "id": "SLqBr4RmzCa5",
        "outputId": "c58f8bf0-68ce-45a1-8c4e-1d3e5c1c8ba8"
      },
      "execution_count": 65,
      "outputs": [
        {
          "output_type": "stream",
          "name": "stdout",
          "text": [
            "{1, 2, 5, 56, 9, 90, 43}\n"
          ]
        }
      ]
    },
    {
      "cell_type": "code",
      "source": [
        "# Difference in elements between sets\n",
        "diff = set1.difference(set2)"
      ],
      "metadata": {
        "id": "VZzQ0hrzzEKm"
      },
      "execution_count": 66,
      "outputs": []
    },
    {
      "cell_type": "markdown",
      "source": [
        "returns the elements in set1 but not in set2"
      ],
      "metadata": {
        "id": "YNtEylTKzd_w"
      }
    },
    {
      "cell_type": "code",
      "source": [
        "print(diff)"
      ],
      "metadata": {
        "colab": {
          "base_uri": "https://localhost:8080/"
        },
        "id": "tdl_cKdhzVIu",
        "outputId": "2fd8d048-16b2-4435-8417-9ea44854e3c6"
      },
      "execution_count": 68,
      "outputs": [
        {
          "output_type": "stream",
          "name": "stdout",
          "text": [
            "{56, 2, 90, 5}\n"
          ]
        }
      ]
    },
    {
      "cell_type": "code",
      "source": [
        "# Removing an item\n",
        "set3.discard(141)"
      ],
      "metadata": {
        "id": "S-32LgPPzWyW"
      },
      "execution_count": 69,
      "outputs": []
    },
    {
      "cell_type": "markdown",
      "source": [
        "Discarding a specified item"
      ],
      "metadata": {
        "id": "HT46FrPszwzN"
      }
    },
    {
      "cell_type": "code",
      "source": [
        "print(set3)"
      ],
      "metadata": {
        "colab": {
          "base_uri": "https://localhost:8080/"
        },
        "id": "rOeEWxqhztKD",
        "outputId": "b71ee7c0-cdcb-4bf0-c169-f5a8e0de3de4"
      },
      "execution_count": 70,
      "outputs": [
        {
          "output_type": "stream",
          "name": "stdout",
          "text": [
            "{99, 485, 46, 56, 90}\n"
          ]
        }
      ]
    },
    {
      "cell_type": "code",
      "source": [
        "# Intersection between two sets\n",
        "inter = set1.intersection(set3)"
      ],
      "metadata": {
        "id": "kxvuIf0Gzvnh"
      },
      "execution_count": 71,
      "outputs": []
    },
    {
      "cell_type": "markdown",
      "source": [
        "returns the intersecting elements between two sets."
      ],
      "metadata": {
        "id": "krTDlIQQ0Es9"
      }
    },
    {
      "cell_type": "code",
      "source": [
        "print(inter)"
      ],
      "metadata": {
        "colab": {
          "base_uri": "https://localhost:8080/"
        },
        "id": "vSooo8qh0D77",
        "outputId": "b4199323-b5b6-4bc2-d186-2086631b4cb0"
      },
      "execution_count": 72,
      "outputs": [
        {
          "output_type": "stream",
          "name": "stdout",
          "text": [
            "{56, 90}\n"
          ]
        }
      ]
    },
    {
      "cell_type": "code",
      "source": [
        "# Checking for disjoint\n",
        "dis = set1.isdisjoint(set3)"
      ],
      "metadata": {
        "id": "pFKQiANU0MDq"
      },
      "execution_count": 73,
      "outputs": []
    },
    {
      "cell_type": "markdown",
      "source": [
        "Checks whether set1 and set3 are disjoint or not."
      ],
      "metadata": {
        "id": "9RZ0zNNl0gE9"
      }
    },
    {
      "cell_type": "code",
      "source": [
        "print(dis)"
      ],
      "metadata": {
        "colab": {
          "base_uri": "https://localhost:8080/"
        },
        "id": "aj_OdDzr0chD",
        "outputId": "8025ad37-d78e-4c05-fd14-96deaac2c09d"
      },
      "execution_count": 75,
      "outputs": [
        {
          "output_type": "stream",
          "name": "stdout",
          "text": [
            "False\n"
          ]
        }
      ]
    },
    {
      "cell_type": "code",
      "source": [
        "# Checking for subset\n",
        "set2.issubset(set1)"
      ],
      "metadata": {
        "colab": {
          "base_uri": "https://localhost:8080/"
        },
        "id": "BM_ULd_S0emJ",
        "outputId": "1e71a3c4-858c-4806-c91c-0646e576dbe6"
      },
      "execution_count": 76,
      "outputs": [
        {
          "output_type": "execute_result",
          "data": {
            "text/plain": [
              "True"
            ]
          },
          "metadata": {},
          "execution_count": 76
        }
      ]
    },
    {
      "cell_type": "markdown",
      "source": [
        "Checks whether set2 is subset of set1 or not"
      ],
      "metadata": {
        "id": "xv0r7aTa1Oss"
      }
    },
    {
      "cell_type": "code",
      "source": [
        "#checking for superset\n",
        "set1.issuperset(set2)"
      ],
      "metadata": {
        "colab": {
          "base_uri": "https://localhost:8080/"
        },
        "id": "9mIJeLv-1NS7",
        "outputId": "67316be1-f5e7-4b61-81e8-74ec700f7012"
      },
      "execution_count": 77,
      "outputs": [
        {
          "output_type": "execute_result",
          "data": {
            "text/plain": [
              "True"
            ]
          },
          "metadata": {},
          "execution_count": 77
        }
      ]
    },
    {
      "cell_type": "code",
      "source": [
        "# Symmetric difference between two sets\n",
        "sym_diff = set1.symmetric_difference(set3)"
      ],
      "metadata": {
        "id": "eH3tMyjV1fGL"
      },
      "execution_count": 78,
      "outputs": []
    },
    {
      "cell_type": "markdown",
      "source": [
        "This returns all the elements from both sets that are not present in both."
      ],
      "metadata": {
        "id": "iwP77JaE2AND"
      }
    },
    {
      "cell_type": "code",
      "source": [
        "print(sym_diff)"
      ],
      "metadata": {
        "colab": {
          "base_uri": "https://localhost:8080/"
        },
        "id": "quZhTmkO1xkC",
        "outputId": "1fad066a-3342-4d59-9626-9b6cd160b4d2"
      },
      "execution_count": 80,
      "outputs": [
        {
          "output_type": "stream",
          "name": "stdout",
          "text": [
            "{1, 2, 5, 9, 99, 485, 43, 46}\n"
          ]
        }
      ]
    },
    {
      "cell_type": "code",
      "source": [
        "# Union\n",
        "un = set2.union(set3)"
      ],
      "metadata": {
        "id": "EMODYSee10mp"
      },
      "execution_count": 81,
      "outputs": []
    },
    {
      "cell_type": "markdown",
      "source": [
        "This returns the union of the two sets."
      ],
      "metadata": {
        "id": "fWpybI-ZI-zH"
      }
    },
    {
      "cell_type": "code",
      "source": [
        "print(un)"
      ],
      "metadata": {
        "colab": {
          "base_uri": "https://localhost:8080/"
        },
        "id": "QzzY-GB-2TPn",
        "outputId": "68166a2b-55c8-4b75-a4fd-89e120d3f7b8"
      },
      "execution_count": 84,
      "outputs": [
        {
          "output_type": "stream",
          "name": "stdout",
          "text": [
            "{1, 99, 485, 9, 43, 46, 56, 90}\n"
          ]
        }
      ]
    },
    {
      "cell_type": "code",
      "source": [
        "new_set ={'A','B',1}"
      ],
      "metadata": {
        "id": "spafE_YvJW1l"
      },
      "execution_count": 88,
      "outputs": []
    },
    {
      "cell_type": "code",
      "source": [
        "# Updating a set\n",
        "set1.update(new_set)\n"
      ],
      "metadata": {
        "id": "j2RWsSqv2U3v"
      },
      "execution_count": 89,
      "outputs": []
    },
    {
      "cell_type": "markdown",
      "source": [
        "This updates the set set1 by the elements in new_set, repeated elements are excluded."
      ],
      "metadata": {
        "id": "GTOqnuQpJnFW"
      }
    },
    {
      "cell_type": "code",
      "source": [
        "print(set1)"
      ],
      "metadata": {
        "colab": {
          "base_uri": "https://localhost:8080/"
        },
        "id": "Po_qD1qCJirl",
        "outputId": "4015c3c3-1498-4279-98aa-b1e239c7539a"
      },
      "execution_count": 90,
      "outputs": [
        {
          "output_type": "stream",
          "name": "stdout",
          "text": [
            "{1, 2, 5, 'B', 9, 43, 'A', 56, 90}\n"
          ]
        }
      ]
    },
    {
      "cell_type": "code",
      "source": [
        "#Creating three dictionaries\n",
        "dic1= {'k11':44,'k12':3,'k13':198,'k14':11}\n",
        "dic2= {'k21':'Al Pacino','k22':'Robert Denero','k23':'John Lennon','k24':'Vivian Richards','k25':'Gary Sobers','k26':'John Denver'}\n",
        "dic3= {'k31':11,'k32':'Mango'}"
      ],
      "metadata": {
        "id": "0SRHlYANJlTA"
      },
      "execution_count": 91,
      "outputs": []
    },
    {
      "cell_type": "markdown",
      "source": [
        "Dictionaries are essentially sets with index."
      ],
      "metadata": {
        "id": "UnLl060xLeWn"
      }
    },
    {
      "cell_type": "code",
      "source": [
        "print(dic2)"
      ],
      "metadata": {
        "colab": {
          "base_uri": "https://localhost:8080/"
        },
        "id": "2foRKY3PLlHj",
        "outputId": "7aaeb23f-412e-4354-e7f4-85ce1a8cba14"
      },
      "execution_count": 98,
      "outputs": [
        {
          "output_type": "stream",
          "name": "stdout",
          "text": [
            "{'k21': 'Al Pacino', 'k22': 'Robert Denero', 'k23': 'John Lennon', 'k24': 'Vivian Richards', 'k25': 'Gary Sobers', 'k26': 'John Denver'}\n"
          ]
        }
      ]
    },
    {
      "cell_type": "code",
      "source": [
        "dir(dic1)"
      ],
      "metadata": {
        "colab": {
          "base_uri": "https://localhost:8080/"
        },
        "id": "y8-HmXYsMigV",
        "outputId": "d92d3751-4787-4135-aa1a-365de2089419"
      },
      "execution_count": 99,
      "outputs": [
        {
          "output_type": "execute_result",
          "data": {
            "text/plain": [
              "['__class__',\n",
              " '__contains__',\n",
              " '__delattr__',\n",
              " '__delitem__',\n",
              " '__dir__',\n",
              " '__doc__',\n",
              " '__eq__',\n",
              " '__format__',\n",
              " '__ge__',\n",
              " '__getattribute__',\n",
              " '__getitem__',\n",
              " '__gt__',\n",
              " '__hash__',\n",
              " '__init__',\n",
              " '__init_subclass__',\n",
              " '__iter__',\n",
              " '__le__',\n",
              " '__len__',\n",
              " '__lt__',\n",
              " '__ne__',\n",
              " '__new__',\n",
              " '__reduce__',\n",
              " '__reduce_ex__',\n",
              " '__repr__',\n",
              " '__setattr__',\n",
              " '__setitem__',\n",
              " '__sizeof__',\n",
              " '__str__',\n",
              " '__subclasshook__',\n",
              " 'clear',\n",
              " 'copy',\n",
              " 'fromkeys',\n",
              " 'get',\n",
              " 'items',\n",
              " 'keys',\n",
              " 'pop',\n",
              " 'popitem',\n",
              " 'setdefault',\n",
              " 'update',\n",
              " 'values']"
            ]
          },
          "metadata": {},
          "execution_count": 99
        }
      ]
    },
    {
      "cell_type": "code",
      "source": [
        "# Copying a dictionary\n",
        "copy1 = dic1.copy()\n",
        "print (copy1)"
      ],
      "metadata": {
        "colab": {
          "base_uri": "https://localhost:8080/"
        },
        "id": "Mf6GXay2Lsci",
        "outputId": "bff62d99-c415-49ff-e64d-73a86ef06ad6"
      },
      "execution_count": 94,
      "outputs": [
        {
          "output_type": "stream",
          "name": "stdout",
          "text": [
            "{'k11': 44, 'k12': 3, 'k13': 198, 'k14': 11}\n"
          ]
        }
      ]
    },
    {
      "cell_type": "markdown",
      "source": [
        "Returns a copy in another dictionary."
      ],
      "metadata": {
        "id": "SDBJ6q_GMKJM"
      }
    },
    {
      "cell_type": "code",
      "source": [
        "# Removing all elements from a dictionary\n",
        "copy1.clear()\n",
        "print(copy1)"
      ],
      "metadata": {
        "colab": {
          "base_uri": "https://localhost:8080/"
        },
        "id": "bCRnginkMBqm",
        "outputId": "6f8eae79-3f7b-4e84-931a-7215f953e98a"
      },
      "execution_count": 97,
      "outputs": [
        {
          "output_type": "stream",
          "name": "stdout",
          "text": [
            "{}\n"
          ]
        }
      ]
    },
    {
      "cell_type": "markdown",
      "source": [
        "clear() deletes all elements from a dictionary"
      ],
      "metadata": {
        "id": "lrq4RqdFOOGn"
      }
    },
    {
      "cell_type": "code",
      "source": [
        "#Getting values using keys\n",
        "dic2.get('k24')"
      ],
      "metadata": {
        "colab": {
          "base_uri": "https://localhost:8080/",
          "height": 35
        },
        "id": "ivds1M-yMWkV",
        "outputId": "ae238bff-66fc-440e-8441-65dc2d9aac9f"
      },
      "execution_count": 102,
      "outputs": [
        {
          "output_type": "execute_result",
          "data": {
            "text/plain": [
              "'Vivian Richards'"
            ],
            "application/vnd.google.colaboratory.intrinsic+json": {
              "type": "string"
            }
          },
          "metadata": {},
          "execution_count": 102
        }
      ]
    },
    {
      "cell_type": "markdown",
      "source": [
        "Grabbing values using keys from a dictionary."
      ],
      "metadata": {
        "id": "MSAA05Z6NvAA"
      }
    },
    {
      "cell_type": "code",
      "source": [
        "# Getting all items from a dictionary\n",
        "x = dic2.items()\n",
        "print(x)"
      ],
      "metadata": {
        "colab": {
          "base_uri": "https://localhost:8080/"
        },
        "id": "TBr9yARLNDwI",
        "outputId": "67fa36c9-0c69-41f6-b524-43fb0f8f17e8"
      },
      "execution_count": 104,
      "outputs": [
        {
          "output_type": "stream",
          "name": "stdout",
          "text": [
            "dict_items([('k21', 'Al Pacino'), ('k22', 'Robert Denero'), ('k23', 'John Lennon'), ('k24', 'Vivian Richards'), ('k25', 'Gary Sobers'), ('k26', 'John Denver')])\n"
          ]
        }
      ]
    },
    {
      "cell_type": "markdown",
      "source": [
        "Grabbing all the items in a dictionary.\n"
      ],
      "metadata": {
        "id": "GoZL6XU6Odjg"
      }
    },
    {
      "cell_type": "code",
      "source": [
        "# Showing all the keys\n",
        "print(dic1.keys())"
      ],
      "metadata": {
        "colab": {
          "base_uri": "https://localhost:8080/"
        },
        "id": "a1WouD9kOEpr",
        "outputId": "b0c26844-30bc-4b77-868e-ce5f79d0c22c"
      },
      "execution_count": 105,
      "outputs": [
        {
          "output_type": "stream",
          "name": "stdout",
          "text": [
            "dict_keys(['k11', 'k12', 'k13', 'k14'])\n"
          ]
        }
      ]
    },
    {
      "cell_type": "markdown",
      "source": [
        "Returns all keys of a dictionary."
      ],
      "metadata": {
        "id": "6e-kSB3NOzVA"
      }
    },
    {
      "cell_type": "code",
      "source": [
        "# Remove a particular value and show it\n",
        "dic3.pop('k31')"
      ],
      "metadata": {
        "colab": {
          "base_uri": "https://localhost:8080/"
        },
        "id": "oLYwbhqhOtxo",
        "outputId": "95f188d1-db5f-490d-eae7-9f04755763cb"
      },
      "execution_count": 106,
      "outputs": [
        {
          "output_type": "execute_result",
          "data": {
            "text/plain": [
              "11"
            ]
          },
          "metadata": {},
          "execution_count": 106
        }
      ]
    },
    {
      "cell_type": "markdown",
      "source": [
        "Removes the value from the key and shows the values."
      ],
      "metadata": {
        "id": "2J0Y2bl3PIWD"
      }
    },
    {
      "cell_type": "code",
      "source": [
        "# All values from a dictionary\n",
        "print(dic2.values())"
      ],
      "metadata": {
        "colab": {
          "base_uri": "https://localhost:8080/"
        },
        "id": "Gb8HghhNPHN2",
        "outputId": "83218f92-92e9-43ad-f2c9-9ee2f23583e2"
      },
      "execution_count": 107,
      "outputs": [
        {
          "output_type": "stream",
          "name": "stdout",
          "text": [
            "dict_values(['Al Pacino', 'Robert Denero', 'John Lennon', 'Vivian Richards', 'Gary Sobers', 'John Denver'])\n"
          ]
        }
      ]
    },
    {
      "cell_type": "markdown",
      "source": [
        "Returns just the values and not the keys."
      ],
      "metadata": {
        "id": "ld9mTxJgPa3x"
      }
    },
    {
      "cell_type": "code",
      "source": [
        ""
      ],
      "metadata": {
        "id": "JrdjoKV8PZni"
      },
      "execution_count": null,
      "outputs": []
    }
  ]
}