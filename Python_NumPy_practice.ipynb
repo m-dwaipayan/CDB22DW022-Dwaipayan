{
  "nbformat": 4,
  "nbformat_minor": 0,
  "metadata": {
    "colab": {
      "name": "Python NumPy practice.ipynb",
      "provenance": [],
      "authorship_tag": "ABX9TyOKFb80PaWx5ZgbyD/HNXGb",
      "include_colab_link": true
    },
    "kernelspec": {
      "name": "python3",
      "display_name": "Python 3"
    },
    "language_info": {
      "name": "python"
    }
  },
  "cells": [
    {
      "cell_type": "markdown",
      "metadata": {
        "id": "view-in-github",
        "colab_type": "text"
      },
      "source": [
        "<a href=\"https://colab.research.google.com/github/m-dwaipayan/CDB22DW022-Dwaipayan/blob/main/Python_NumPy_practice.ipynb\" target=\"_parent\"><img src=\"https://colab.research.google.com/assets/colab-badge.svg\" alt=\"Open In Colab\"/></a>"
      ]
    },
    {
      "cell_type": "markdown",
      "source": [
        "**NumPy**"
      ],
      "metadata": {
        "id": "1Odtbg9aXZVJ"
      }
    },
    {
      "cell_type": "code",
      "execution_count": 1,
      "metadata": {
        "id": "RO3aTp1qVK9u"
      },
      "outputs": [],
      "source": [
        "# Importing numPy\n",
        "import numpy as np"
      ]
    },
    {
      "cell_type": "code",
      "source": [
        "# Defining a python list containing age of 6 people\n",
        "ages_list = [10,5,8,32,65,43]\n",
        "print(ages_list)"
      ],
      "metadata": {
        "colab": {
          "base_uri": "https://localhost:8080/"
        },
        "id": "SHqM0OJdXlH7",
        "outputId": "5cf9fa35-082a-4a0c-fca1-53539ccc4a83"
      },
      "execution_count": 2,
      "outputs": [
        {
          "output_type": "stream",
          "name": "stdout",
          "text": [
            "[10, 5, 8, 32, 65, 43]\n"
          ]
        }
      ]
    },
    {
      "cell_type": "code",
      "source": [
        "# Instantiating a NumPy array object using np.array()\n",
        "ages = np.array(ages_list)\n",
        "print(type(ages))\n",
        "print(ages)"
      ],
      "metadata": {
        "colab": {
          "base_uri": "https://localhost:8080/"
        },
        "id": "8hRHfqCuX8_1",
        "outputId": "438775a6-eb9d-4340-c7cf-7cddc3391996"
      },
      "execution_count": 3,
      "outputs": [
        {
          "output_type": "stream",
          "name": "stdout",
          "text": [
            "<class 'numpy.ndarray'>\n",
            "[10  5  8 32 65 43]\n"
          ]
        }
      ]
    },
    {
      "cell_type": "code",
      "source": [
        "# Printing the size and shape of the array ages\n",
        "print(ages)\n",
        "print(\"Size:\\t\",ages.size)\n",
        "print(\"Shape:\\t\",ages.shape)"
      ],
      "metadata": {
        "colab": {
          "base_uri": "https://localhost:8080/"
        },
        "id": "veSBAUVSYgv7",
        "outputId": "a9775757-0c2c-4ee1-cbe5-df0c50c07e64"
      },
      "execution_count": 5,
      "outputs": [
        {
          "output_type": "stream",
          "name": "stdout",
          "text": [
            "[10  5  8 32 65 43]\n",
            "Size:\t 6\n",
            "Shape:\t (6,)\n"
          ]
        }
      ]
    },
    {
      "cell_type": "code",
      "source": [
        "# Creating an array of zeros\n",
        "zeroArr = np.zeros(5)\n",
        "print(zeroArr)"
      ],
      "metadata": {
        "colab": {
          "base_uri": "https://localhost:8080/"
        },
        "id": "uilPaiR4Y4i5",
        "outputId": "e4cce870-24ca-4099-84cd-3a32274794e3"
      },
      "execution_count": 6,
      "outputs": [
        {
          "output_type": "stream",
          "name": "stdout",
          "text": [
            "[0. 0. 0. 0. 0.]\n"
          ]
        }
      ]
    },
    {
      "cell_type": "markdown",
      "source": [
        "Multi-Dimensional"
      ],
      "metadata": {
        "id": "a7EN74JrZQ5O"
      }
    },
    {
      "cell_type": "code",
      "source": [
        "# Defining a list of the weights of these 6 individuals\n",
        "weight_list = [32,18,26,60,55,65]"
      ],
      "metadata": {
        "id": "9bJ_RvLzZNiG"
      },
      "execution_count": 7,
      "outputs": []
    },
    {
      "cell_type": "code",
      "source": [
        "# Creating an array with both age and weight of the 6 individuals\n",
        "people = np.array([ages_list,weight_list])\n",
        "print(\"People:\\t\",people)\n",
        "\n",
        "# Printing the size and shape\n",
        "print(\"Size:\\t\",people.size)\n",
        "print(\"Shape:\\t\",people.shape)"
      ],
      "metadata": {
        "colab": {
          "base_uri": "https://localhost:8080/"
        },
        "id": "Bnr-gH1cZkcD",
        "outputId": "57116971-e4b0-4f4a-ad89-181c7f796a61"
      },
      "execution_count": 8,
      "outputs": [
        {
          "output_type": "stream",
          "name": "stdout",
          "text": [
            "People:\t [[10  5  8 32 65 43]\n",
            " [32 18 26 60 55 65]]\n",
            "Size:\t 12\n",
            "Shape:\t (2, 6)\n"
          ]
        }
      ]
    },
    {
      "cell_type": "code",
      "source": [
        "# Changing the shape and printing\n",
        "people = people.reshape(12,1)\n",
        "print(\"People:\\t\",people)\n",
        "print(\"Size:\\t\",people.size)\n",
        "print(\"Shape:\\t\",people.shape)"
      ],
      "metadata": {
        "colab": {
          "base_uri": "https://localhost:8080/"
        },
        "id": "Bt0jEpdSaPmx",
        "outputId": "3967138e-e707-45d4-bdaa-ff8b45f1eaaf"
      },
      "execution_count": 9,
      "outputs": [
        {
          "output_type": "stream",
          "name": "stdout",
          "text": [
            "People:\t [[10]\n",
            " [ 5]\n",
            " [ 8]\n",
            " [32]\n",
            " [65]\n",
            " [43]\n",
            " [32]\n",
            " [18]\n",
            " [26]\n",
            " [60]\n",
            " [55]\n",
            " [65]]\n",
            "Size:\t 12\n",
            "Shape:\t (12, 1)\n"
          ]
        }
      ]
    },
    {
      "cell_type": "code",
      "source": [
        "# Changing the shape and printing\n",
        "people = people.reshape(4,3)\n",
        "print(\"People:\\t\",people)\n",
        "print(\"Size:\\t\",people.size)\n",
        "print(\"Shape:\\t\",people.shape)"
      ],
      "metadata": {
        "colab": {
          "base_uri": "https://localhost:8080/"
        },
        "id": "6Ddn6Qj5auNS",
        "outputId": "a6f20b3f-c6ed-4431-bbcd-a6644f0af1f6"
      },
      "execution_count": 10,
      "outputs": [
        {
          "output_type": "stream",
          "name": "stdout",
          "text": [
            "People:\t [[10  5  8]\n",
            " [32 65 43]\n",
            " [32 18 26]\n",
            " [60 55 65]]\n",
            "Size:\t 12\n",
            "Shape:\t (4, 3)\n"
          ]
        }
      ]
    },
    {
      "cell_type": "code",
      "source": [
        "# Changing the shape and printing\n",
        "people = people.reshape(3,4)\n",
        "print(\"People:\\t\",people)\n",
        "print(\"Size:\\t\",people.size)\n",
        "print(\"Shape:\\t\",people.shape)"
      ],
      "metadata": {
        "colab": {
          "base_uri": "https://localhost:8080/"
        },
        "id": "EObaH8PMa9_E",
        "outputId": "65edd6da-1908-497c-d2bf-d339dd0aa316"
      },
      "execution_count": 11,
      "outputs": [
        {
          "output_type": "stream",
          "name": "stdout",
          "text": [
            "People:\t [[10  5  8 32]\n",
            " [65 43 32 18]\n",
            " [26 60 55 65]]\n",
            "Size:\t 12\n",
            "Shape:\t (3, 4)\n"
          ]
        }
      ]
    },
    {
      "cell_type": "code",
      "source": [
        "# Changing the shape and printing\n",
        "people = people.reshape(6,2)\n",
        "print(\"People:\\t\",people)\n",
        "print(\"Size:\\t\",people.size)\n",
        "print(\"Shape:\\t\",people.shape)"
      ],
      "metadata": {
        "colab": {
          "base_uri": "https://localhost:8080/"
        },
        "id": "Adu32TPnbFYL",
        "outputId": "ae1a8172-76a4-46bc-a442-9626c66f82bb"
      },
      "execution_count": 12,
      "outputs": [
        {
          "output_type": "stream",
          "name": "stdout",
          "text": [
            "People:\t [[10  5]\n",
            " [ 8 32]\n",
            " [65 43]\n",
            " [32 18]\n",
            " [26 60]\n",
            " [55 65]]\n",
            "Size:\t 12\n",
            "Shape:\t (6, 2)\n"
          ]
        }
      ]
    },
    {
      "cell_type": "code",
      "source": [
        "# Changing the shape and printing\n",
        "people = people.reshape(1,12)\n",
        "print(\"People:\\t\",people)\n",
        "print(\"Size:\\t\",people.size)\n",
        "print(\"Shape:\\t\",people.shape)"
      ],
      "metadata": {
        "colab": {
          "base_uri": "https://localhost:8080/"
        },
        "id": "4SrUkKnAbNZN",
        "outputId": "0dde6685-6e91-4878-f98f-174fab64ef37"
      },
      "execution_count": 13,
      "outputs": [
        {
          "output_type": "stream",
          "name": "stdout",
          "text": [
            "People:\t [[10  5  8 32 65 43 32 18 26 60 55 65]]\n",
            "Size:\t 12\n",
            "Shape:\t (1, 12)\n"
          ]
        }
      ]
    },
    {
      "cell_type": "markdown",
      "source": [
        "Exercise"
      ],
      "metadata": {
        "id": "q1DxEXZDbnrQ"
      }
    },
    {
      "cell_type": "code",
      "source": [
        "# Generating 1D numpy array with values [7,9,65,33,85,99]\n",
        "new_list = [7,9,65,33,85,99]\n",
        "newArr = np.array(new_list)\n",
        "print(\"Array:\\t\",newArr)\n",
        "print(\"Size:\\t\",newArr.size)\n",
        "print(\"Shape:\\t\",newArr.shape)"
      ],
      "metadata": {
        "colab": {
          "base_uri": "https://localhost:8080/"
        },
        "id": "bSgRsKPLbRUJ",
        "outputId": "843e1c30-b73f-4a7d-c82b-66cb84fc5db8"
      },
      "execution_count": 14,
      "outputs": [
        {
          "output_type": "stream",
          "name": "stdout",
          "text": [
            "Array:\t [ 7  9 65 33 85 99]\n",
            "Size:\t 6\n",
            "Shape:\t (6,)\n"
          ]
        }
      ]
    },
    {
      "cell_type": "code",
      "source": [
        "# Generating a 2D NumPy array(matrix)\n",
        "new_list1 = [1,2,4]\n",
        "new_list2 = [2,3,0]\n",
        "new_list3 = [0,5,1]\n",
        "arr2D = np.array([new_list1,new_list2,new_list3]).reshape(3,3)\n",
        "print(\"A=\\t\",arr2D)"
      ],
      "metadata": {
        "colab": {
          "base_uri": "https://localhost:8080/"
        },
        "id": "0TjSIgVrcgkd",
        "outputId": "8b9d323e-24ec-4553-c509-976f8808a5b1"
      },
      "execution_count": 15,
      "outputs": [
        {
          "output_type": "stream",
          "name": "stdout",
          "text": [
            "A=\t [[1 2 4]\n",
            " [2 3 0]\n",
            " [0 5 1]]\n"
          ]
        }
      ]
    },
    {
      "cell_type": "code",
      "source": [
        "# Reshaping the new array\n",
        "A = arr2D.reshape(9,1)\n",
        "print(A)"
      ],
      "metadata": {
        "colab": {
          "base_uri": "https://localhost:8080/"
        },
        "id": "SSdTE_w2dkeh",
        "outputId": "7d76cb97-9ecd-48b3-b936-339a0040147a"
      },
      "execution_count": 16,
      "outputs": [
        {
          "output_type": "stream",
          "name": "stdout",
          "text": [
            "[[1]\n",
            " [2]\n",
            " [4]\n",
            " [2]\n",
            " [3]\n",
            " [0]\n",
            " [0]\n",
            " [5]\n",
            " [1]]\n"
          ]
        }
      ]
    },
    {
      "cell_type": "markdown",
      "source": [
        "ARRAY GENERATION"
      ],
      "metadata": {
        "id": "XGmy3Wqxdfys"
      }
    },
    {
      "cell_type": "code",
      "source": [
        "# Creating an array using np.arange()\n",
        "five_times_table = np.arange(0,55,5)\n",
        "print(five_times_table)"
      ],
      "metadata": {
        "colab": {
          "base_uri": "https://localhost:8080/"
        },
        "id": "WSqHWozudUIP",
        "outputId": "6ca3ed10-c857-4dc8-c0f3-c1b826df0dfa"
      },
      "execution_count": 20,
      "outputs": [
        {
          "output_type": "stream",
          "name": "stdout",
          "text": [
            "[ 0  5 10 15 20 25 30 35 40 45 50]\n"
          ]
        }
      ]
    },
    {
      "cell_type": "code",
      "source": [
        "# Creating an array using np.linspace()\n",
        "five_spaced = np.linspace(0,50,11)\n",
        "print(five_spaced)"
      ],
      "metadata": {
        "colab": {
          "base_uri": "https://localhost:8080/"
        },
        "id": "IF-A8gaaeGqH",
        "outputId": "0d795e17-d665-460f-e94e-9a5345d08c37"
      },
      "execution_count": 21,
      "outputs": [
        {
          "output_type": "stream",
          "name": "stdout",
          "text": [
            "[ 0.  5. 10. 15. 20. 25. 30. 35. 40. 45. 50.]\n"
          ]
        }
      ]
    },
    {
      "cell_type": "code",
      "source": [
        "# Creating an array using np.repeat()\n",
        "twoArr = np.repeat(2,10)\n",
        "print(twoArr)"
      ],
      "metadata": {
        "colab": {
          "base_uri": "https://localhost:8080/"
        },
        "id": "4Wc6RBoTeoe2",
        "outputId": "3ab151f8-7e5f-4173-a33e-3af98efc821a"
      },
      "execution_count": 22,
      "outputs": [
        {
          "output_type": "stream",
          "name": "stdout",
          "text": [
            "[2 2 2 2 2 2 2 2 2 2]\n"
          ]
        }
      ]
    },
    {
      "cell_type": "code",
      "source": [
        "# Creating an identity matrix\n",
        "identity_matrix = np.eye(6)\n",
        "print(identity_matrix)"
      ],
      "metadata": {
        "colab": {
          "base_uri": "https://localhost:8080/"
        },
        "id": "XBCAVEXqfFs7",
        "outputId": "a9d77664-71bb-4768-b584-492843718aed"
      },
      "execution_count": 23,
      "outputs": [
        {
          "output_type": "stream",
          "name": "stdout",
          "text": [
            "[[1. 0. 0. 0. 0. 0.]\n",
            " [0. 1. 0. 0. 0. 0.]\n",
            " [0. 0. 1. 0. 0. 0.]\n",
            " [0. 0. 0. 1. 0. 0.]\n",
            " [0. 0. 0. 0. 1. 0.]\n",
            " [0. 0. 0. 0. 0. 1.]]\n"
          ]
        }
      ]
    },
    {
      "cell_type": "markdown",
      "source": [
        "Operations\n"
      ],
      "metadata": {
        "id": "lZ9_ct5ffaU3"
      }
    },
    {
      "cell_type": "code",
      "source": [
        "five_times_table"
      ],
      "metadata": {
        "colab": {
          "base_uri": "https://localhost:8080/"
        },
        "id": "yOh4FMbXfTxU",
        "outputId": "028ec7c1-f454-4610-adac-f63ac9f49760"
      },
      "execution_count": 24,
      "outputs": [
        {
          "output_type": "execute_result",
          "data": {
            "text/plain": [
              "array([ 0,  5, 10, 15, 20, 25, 30, 35, 40, 45, 50])"
            ]
          },
          "metadata": {},
          "execution_count": 24
        }
      ]
    },
    {
      "cell_type": "code",
      "source": [
        "# Returning an array with twice the elements\n",
        "print(\"1:\", 2 * five_times_table)"
      ],
      "metadata": {
        "colab": {
          "base_uri": "https://localhost:8080/"
        },
        "id": "CzQfW6BOfg2W",
        "outputId": "ae930021-9571-4bfd-b4a3-fd7612aebbee"
      },
      "execution_count": 26,
      "outputs": [
        {
          "output_type": "stream",
          "name": "stdout",
          "text": [
            "1: [  0  10  20  30  40  50  60  70  80  90 100]\n"
          ]
        }
      ]
    },
    {
      "cell_type": "code",
      "source": [
        "# Returning an array with 10 added to each element\n",
        "print(\"2:\", 10 + five_times_table)"
      ],
      "metadata": {
        "colab": {
          "base_uri": "https://localhost:8080/"
        },
        "id": "hBV1uXSpfrO9",
        "outputId": "02d60c2a-2289-4962-a3e7-5f012dd46fc8"
      },
      "execution_count": 27,
      "outputs": [
        {
          "output_type": "stream",
          "name": "stdout",
          "text": [
            "2: [10 15 20 25 30 35 40 45 50 55 60]\n"
          ]
        }
      ]
    },
    {
      "cell_type": "code",
      "source": [
        "# Returning an array with 1 subtracted from each element\n",
        "print(\"3:\", five_times_table - 1)"
      ],
      "metadata": {
        "colab": {
          "base_uri": "https://localhost:8080/"
        },
        "id": "yrnkdZYGgRIq",
        "outputId": "4fdefe2e-7088-4c5f-c884-b7ad079d8769"
      },
      "execution_count": 28,
      "outputs": [
        {
          "output_type": "stream",
          "name": "stdout",
          "text": [
            "3: [-1  4  9 14 19 24 29 34 39 44 49]\n"
          ]
        }
      ]
    },
    {
      "cell_type": "code",
      "source": [
        "# Returning an array with each element divided by 5\n",
        "print(\"4:\", five_times_table/5)"
      ],
      "metadata": {
        "colab": {
          "base_uri": "https://localhost:8080/"
        },
        "id": "oFKcb3P3giA4",
        "outputId": "fcbf3d1f-e011-4809-b303-9d7f48af9858"
      },
      "execution_count": 29,
      "outputs": [
        {
          "output_type": "stream",
          "name": "stdout",
          "text": [
            "4: [ 0.  1.  2.  3.  4.  5.  6.  7.  8.  9. 10.]\n"
          ]
        }
      ]
    },
    {
      "cell_type": "code",
      "source": [
        "# Returning an array with each element raised to the power of 2\n",
        "print(\"5:\", five_times_table ** 2)"
      ],
      "metadata": {
        "colab": {
          "base_uri": "https://localhost:8080/"
        },
        "id": "2RtxRJWHgtZt",
        "outputId": "83ae899e-374a-4d73-c88a-4a1ac5d0d5d2"
      },
      "execution_count": 30,
      "outputs": [
        {
          "output_type": "stream",
          "name": "stdout",
          "text": [
            "5: [   0   25  100  225  400  625  900 1225 1600 2025 2500]\n"
          ]
        }
      ]
    },
    {
      "cell_type": "code",
      "source": [
        "# Returning an array of boolean values if the elements are less than 20\n",
        "print(\"6:\", five_times_table < 20)"
      ],
      "metadata": {
        "colab": {
          "base_uri": "https://localhost:8080/"
        },
        "id": "Sx4frZ0Lg4ra",
        "outputId": "cf7cadf5-97d0-4382-c513-18f4b12782c7"
      },
      "execution_count": 31,
      "outputs": [
        {
          "output_type": "stream",
          "name": "stdout",
          "text": [
            "6: [ True  True  True  True False False False False False False False]\n"
          ]
        }
      ]
    },
    {
      "cell_type": "markdown",
      "source": [
        "Speed Test"
      ],
      "metadata": {
        "id": "ZzvBpmv2hOGd"
      }
    },
    {
      "cell_type": "code",
      "source": [
        "fives_list = list(range(0,5001,5))\n",
        "fives_list"
      ],
      "metadata": {
        "colab": {
          "base_uri": "https://localhost:8080/"
        },
        "id": "lw9eL7rJhE9F",
        "outputId": "2359b2f4-5868-40bc-f668-082df8dd8a79"
      },
      "execution_count": 32,
      "outputs": [
        {
          "output_type": "execute_result",
          "data": {
            "text/plain": [
              "[0,\n",
              " 5,\n",
              " 10,\n",
              " 15,\n",
              " 20,\n",
              " 25,\n",
              " 30,\n",
              " 35,\n",
              " 40,\n",
              " 45,\n",
              " 50,\n",
              " 55,\n",
              " 60,\n",
              " 65,\n",
              " 70,\n",
              " 75,\n",
              " 80,\n",
              " 85,\n",
              " 90,\n",
              " 95,\n",
              " 100,\n",
              " 105,\n",
              " 110,\n",
              " 115,\n",
              " 120,\n",
              " 125,\n",
              " 130,\n",
              " 135,\n",
              " 140,\n",
              " 145,\n",
              " 150,\n",
              " 155,\n",
              " 160,\n",
              " 165,\n",
              " 170,\n",
              " 175,\n",
              " 180,\n",
              " 185,\n",
              " 190,\n",
              " 195,\n",
              " 200,\n",
              " 205,\n",
              " 210,\n",
              " 215,\n",
              " 220,\n",
              " 225,\n",
              " 230,\n",
              " 235,\n",
              " 240,\n",
              " 245,\n",
              " 250,\n",
              " 255,\n",
              " 260,\n",
              " 265,\n",
              " 270,\n",
              " 275,\n",
              " 280,\n",
              " 285,\n",
              " 290,\n",
              " 295,\n",
              " 300,\n",
              " 305,\n",
              " 310,\n",
              " 315,\n",
              " 320,\n",
              " 325,\n",
              " 330,\n",
              " 335,\n",
              " 340,\n",
              " 345,\n",
              " 350,\n",
              " 355,\n",
              " 360,\n",
              " 365,\n",
              " 370,\n",
              " 375,\n",
              " 380,\n",
              " 385,\n",
              " 390,\n",
              " 395,\n",
              " 400,\n",
              " 405,\n",
              " 410,\n",
              " 415,\n",
              " 420,\n",
              " 425,\n",
              " 430,\n",
              " 435,\n",
              " 440,\n",
              " 445,\n",
              " 450,\n",
              " 455,\n",
              " 460,\n",
              " 465,\n",
              " 470,\n",
              " 475,\n",
              " 480,\n",
              " 485,\n",
              " 490,\n",
              " 495,\n",
              " 500,\n",
              " 505,\n",
              " 510,\n",
              " 515,\n",
              " 520,\n",
              " 525,\n",
              " 530,\n",
              " 535,\n",
              " 540,\n",
              " 545,\n",
              " 550,\n",
              " 555,\n",
              " 560,\n",
              " 565,\n",
              " 570,\n",
              " 575,\n",
              " 580,\n",
              " 585,\n",
              " 590,\n",
              " 595,\n",
              " 600,\n",
              " 605,\n",
              " 610,\n",
              " 615,\n",
              " 620,\n",
              " 625,\n",
              " 630,\n",
              " 635,\n",
              " 640,\n",
              " 645,\n",
              " 650,\n",
              " 655,\n",
              " 660,\n",
              " 665,\n",
              " 670,\n",
              " 675,\n",
              " 680,\n",
              " 685,\n",
              " 690,\n",
              " 695,\n",
              " 700,\n",
              " 705,\n",
              " 710,\n",
              " 715,\n",
              " 720,\n",
              " 725,\n",
              " 730,\n",
              " 735,\n",
              " 740,\n",
              " 745,\n",
              " 750,\n",
              " 755,\n",
              " 760,\n",
              " 765,\n",
              " 770,\n",
              " 775,\n",
              " 780,\n",
              " 785,\n",
              " 790,\n",
              " 795,\n",
              " 800,\n",
              " 805,\n",
              " 810,\n",
              " 815,\n",
              " 820,\n",
              " 825,\n",
              " 830,\n",
              " 835,\n",
              " 840,\n",
              " 845,\n",
              " 850,\n",
              " 855,\n",
              " 860,\n",
              " 865,\n",
              " 870,\n",
              " 875,\n",
              " 880,\n",
              " 885,\n",
              " 890,\n",
              " 895,\n",
              " 900,\n",
              " 905,\n",
              " 910,\n",
              " 915,\n",
              " 920,\n",
              " 925,\n",
              " 930,\n",
              " 935,\n",
              " 940,\n",
              " 945,\n",
              " 950,\n",
              " 955,\n",
              " 960,\n",
              " 965,\n",
              " 970,\n",
              " 975,\n",
              " 980,\n",
              " 985,\n",
              " 990,\n",
              " 995,\n",
              " 1000,\n",
              " 1005,\n",
              " 1010,\n",
              " 1015,\n",
              " 1020,\n",
              " 1025,\n",
              " 1030,\n",
              " 1035,\n",
              " 1040,\n",
              " 1045,\n",
              " 1050,\n",
              " 1055,\n",
              " 1060,\n",
              " 1065,\n",
              " 1070,\n",
              " 1075,\n",
              " 1080,\n",
              " 1085,\n",
              " 1090,\n",
              " 1095,\n",
              " 1100,\n",
              " 1105,\n",
              " 1110,\n",
              " 1115,\n",
              " 1120,\n",
              " 1125,\n",
              " 1130,\n",
              " 1135,\n",
              " 1140,\n",
              " 1145,\n",
              " 1150,\n",
              " 1155,\n",
              " 1160,\n",
              " 1165,\n",
              " 1170,\n",
              " 1175,\n",
              " 1180,\n",
              " 1185,\n",
              " 1190,\n",
              " 1195,\n",
              " 1200,\n",
              " 1205,\n",
              " 1210,\n",
              " 1215,\n",
              " 1220,\n",
              " 1225,\n",
              " 1230,\n",
              " 1235,\n",
              " 1240,\n",
              " 1245,\n",
              " 1250,\n",
              " 1255,\n",
              " 1260,\n",
              " 1265,\n",
              " 1270,\n",
              " 1275,\n",
              " 1280,\n",
              " 1285,\n",
              " 1290,\n",
              " 1295,\n",
              " 1300,\n",
              " 1305,\n",
              " 1310,\n",
              " 1315,\n",
              " 1320,\n",
              " 1325,\n",
              " 1330,\n",
              " 1335,\n",
              " 1340,\n",
              " 1345,\n",
              " 1350,\n",
              " 1355,\n",
              " 1360,\n",
              " 1365,\n",
              " 1370,\n",
              " 1375,\n",
              " 1380,\n",
              " 1385,\n",
              " 1390,\n",
              " 1395,\n",
              " 1400,\n",
              " 1405,\n",
              " 1410,\n",
              " 1415,\n",
              " 1420,\n",
              " 1425,\n",
              " 1430,\n",
              " 1435,\n",
              " 1440,\n",
              " 1445,\n",
              " 1450,\n",
              " 1455,\n",
              " 1460,\n",
              " 1465,\n",
              " 1470,\n",
              " 1475,\n",
              " 1480,\n",
              " 1485,\n",
              " 1490,\n",
              " 1495,\n",
              " 1500,\n",
              " 1505,\n",
              " 1510,\n",
              " 1515,\n",
              " 1520,\n",
              " 1525,\n",
              " 1530,\n",
              " 1535,\n",
              " 1540,\n",
              " 1545,\n",
              " 1550,\n",
              " 1555,\n",
              " 1560,\n",
              " 1565,\n",
              " 1570,\n",
              " 1575,\n",
              " 1580,\n",
              " 1585,\n",
              " 1590,\n",
              " 1595,\n",
              " 1600,\n",
              " 1605,\n",
              " 1610,\n",
              " 1615,\n",
              " 1620,\n",
              " 1625,\n",
              " 1630,\n",
              " 1635,\n",
              " 1640,\n",
              " 1645,\n",
              " 1650,\n",
              " 1655,\n",
              " 1660,\n",
              " 1665,\n",
              " 1670,\n",
              " 1675,\n",
              " 1680,\n",
              " 1685,\n",
              " 1690,\n",
              " 1695,\n",
              " 1700,\n",
              " 1705,\n",
              " 1710,\n",
              " 1715,\n",
              " 1720,\n",
              " 1725,\n",
              " 1730,\n",
              " 1735,\n",
              " 1740,\n",
              " 1745,\n",
              " 1750,\n",
              " 1755,\n",
              " 1760,\n",
              " 1765,\n",
              " 1770,\n",
              " 1775,\n",
              " 1780,\n",
              " 1785,\n",
              " 1790,\n",
              " 1795,\n",
              " 1800,\n",
              " 1805,\n",
              " 1810,\n",
              " 1815,\n",
              " 1820,\n",
              " 1825,\n",
              " 1830,\n",
              " 1835,\n",
              " 1840,\n",
              " 1845,\n",
              " 1850,\n",
              " 1855,\n",
              " 1860,\n",
              " 1865,\n",
              " 1870,\n",
              " 1875,\n",
              " 1880,\n",
              " 1885,\n",
              " 1890,\n",
              " 1895,\n",
              " 1900,\n",
              " 1905,\n",
              " 1910,\n",
              " 1915,\n",
              " 1920,\n",
              " 1925,\n",
              " 1930,\n",
              " 1935,\n",
              " 1940,\n",
              " 1945,\n",
              " 1950,\n",
              " 1955,\n",
              " 1960,\n",
              " 1965,\n",
              " 1970,\n",
              " 1975,\n",
              " 1980,\n",
              " 1985,\n",
              " 1990,\n",
              " 1995,\n",
              " 2000,\n",
              " 2005,\n",
              " 2010,\n",
              " 2015,\n",
              " 2020,\n",
              " 2025,\n",
              " 2030,\n",
              " 2035,\n",
              " 2040,\n",
              " 2045,\n",
              " 2050,\n",
              " 2055,\n",
              " 2060,\n",
              " 2065,\n",
              " 2070,\n",
              " 2075,\n",
              " 2080,\n",
              " 2085,\n",
              " 2090,\n",
              " 2095,\n",
              " 2100,\n",
              " 2105,\n",
              " 2110,\n",
              " 2115,\n",
              " 2120,\n",
              " 2125,\n",
              " 2130,\n",
              " 2135,\n",
              " 2140,\n",
              " 2145,\n",
              " 2150,\n",
              " 2155,\n",
              " 2160,\n",
              " 2165,\n",
              " 2170,\n",
              " 2175,\n",
              " 2180,\n",
              " 2185,\n",
              " 2190,\n",
              " 2195,\n",
              " 2200,\n",
              " 2205,\n",
              " 2210,\n",
              " 2215,\n",
              " 2220,\n",
              " 2225,\n",
              " 2230,\n",
              " 2235,\n",
              " 2240,\n",
              " 2245,\n",
              " 2250,\n",
              " 2255,\n",
              " 2260,\n",
              " 2265,\n",
              " 2270,\n",
              " 2275,\n",
              " 2280,\n",
              " 2285,\n",
              " 2290,\n",
              " 2295,\n",
              " 2300,\n",
              " 2305,\n",
              " 2310,\n",
              " 2315,\n",
              " 2320,\n",
              " 2325,\n",
              " 2330,\n",
              " 2335,\n",
              " 2340,\n",
              " 2345,\n",
              " 2350,\n",
              " 2355,\n",
              " 2360,\n",
              " 2365,\n",
              " 2370,\n",
              " 2375,\n",
              " 2380,\n",
              " 2385,\n",
              " 2390,\n",
              " 2395,\n",
              " 2400,\n",
              " 2405,\n",
              " 2410,\n",
              " 2415,\n",
              " 2420,\n",
              " 2425,\n",
              " 2430,\n",
              " 2435,\n",
              " 2440,\n",
              " 2445,\n",
              " 2450,\n",
              " 2455,\n",
              " 2460,\n",
              " 2465,\n",
              " 2470,\n",
              " 2475,\n",
              " 2480,\n",
              " 2485,\n",
              " 2490,\n",
              " 2495,\n",
              " 2500,\n",
              " 2505,\n",
              " 2510,\n",
              " 2515,\n",
              " 2520,\n",
              " 2525,\n",
              " 2530,\n",
              " 2535,\n",
              " 2540,\n",
              " 2545,\n",
              " 2550,\n",
              " 2555,\n",
              " 2560,\n",
              " 2565,\n",
              " 2570,\n",
              " 2575,\n",
              " 2580,\n",
              " 2585,\n",
              " 2590,\n",
              " 2595,\n",
              " 2600,\n",
              " 2605,\n",
              " 2610,\n",
              " 2615,\n",
              " 2620,\n",
              " 2625,\n",
              " 2630,\n",
              " 2635,\n",
              " 2640,\n",
              " 2645,\n",
              " 2650,\n",
              " 2655,\n",
              " 2660,\n",
              " 2665,\n",
              " 2670,\n",
              " 2675,\n",
              " 2680,\n",
              " 2685,\n",
              " 2690,\n",
              " 2695,\n",
              " 2700,\n",
              " 2705,\n",
              " 2710,\n",
              " 2715,\n",
              " 2720,\n",
              " 2725,\n",
              " 2730,\n",
              " 2735,\n",
              " 2740,\n",
              " 2745,\n",
              " 2750,\n",
              " 2755,\n",
              " 2760,\n",
              " 2765,\n",
              " 2770,\n",
              " 2775,\n",
              " 2780,\n",
              " 2785,\n",
              " 2790,\n",
              " 2795,\n",
              " 2800,\n",
              " 2805,\n",
              " 2810,\n",
              " 2815,\n",
              " 2820,\n",
              " 2825,\n",
              " 2830,\n",
              " 2835,\n",
              " 2840,\n",
              " 2845,\n",
              " 2850,\n",
              " 2855,\n",
              " 2860,\n",
              " 2865,\n",
              " 2870,\n",
              " 2875,\n",
              " 2880,\n",
              " 2885,\n",
              " 2890,\n",
              " 2895,\n",
              " 2900,\n",
              " 2905,\n",
              " 2910,\n",
              " 2915,\n",
              " 2920,\n",
              " 2925,\n",
              " 2930,\n",
              " 2935,\n",
              " 2940,\n",
              " 2945,\n",
              " 2950,\n",
              " 2955,\n",
              " 2960,\n",
              " 2965,\n",
              " 2970,\n",
              " 2975,\n",
              " 2980,\n",
              " 2985,\n",
              " 2990,\n",
              " 2995,\n",
              " 3000,\n",
              " 3005,\n",
              " 3010,\n",
              " 3015,\n",
              " 3020,\n",
              " 3025,\n",
              " 3030,\n",
              " 3035,\n",
              " 3040,\n",
              " 3045,\n",
              " 3050,\n",
              " 3055,\n",
              " 3060,\n",
              " 3065,\n",
              " 3070,\n",
              " 3075,\n",
              " 3080,\n",
              " 3085,\n",
              " 3090,\n",
              " 3095,\n",
              " 3100,\n",
              " 3105,\n",
              " 3110,\n",
              " 3115,\n",
              " 3120,\n",
              " 3125,\n",
              " 3130,\n",
              " 3135,\n",
              " 3140,\n",
              " 3145,\n",
              " 3150,\n",
              " 3155,\n",
              " 3160,\n",
              " 3165,\n",
              " 3170,\n",
              " 3175,\n",
              " 3180,\n",
              " 3185,\n",
              " 3190,\n",
              " 3195,\n",
              " 3200,\n",
              " 3205,\n",
              " 3210,\n",
              " 3215,\n",
              " 3220,\n",
              " 3225,\n",
              " 3230,\n",
              " 3235,\n",
              " 3240,\n",
              " 3245,\n",
              " 3250,\n",
              " 3255,\n",
              " 3260,\n",
              " 3265,\n",
              " 3270,\n",
              " 3275,\n",
              " 3280,\n",
              " 3285,\n",
              " 3290,\n",
              " 3295,\n",
              " 3300,\n",
              " 3305,\n",
              " 3310,\n",
              " 3315,\n",
              " 3320,\n",
              " 3325,\n",
              " 3330,\n",
              " 3335,\n",
              " 3340,\n",
              " 3345,\n",
              " 3350,\n",
              " 3355,\n",
              " 3360,\n",
              " 3365,\n",
              " 3370,\n",
              " 3375,\n",
              " 3380,\n",
              " 3385,\n",
              " 3390,\n",
              " 3395,\n",
              " 3400,\n",
              " 3405,\n",
              " 3410,\n",
              " 3415,\n",
              " 3420,\n",
              " 3425,\n",
              " 3430,\n",
              " 3435,\n",
              " 3440,\n",
              " 3445,\n",
              " 3450,\n",
              " 3455,\n",
              " 3460,\n",
              " 3465,\n",
              " 3470,\n",
              " 3475,\n",
              " 3480,\n",
              " 3485,\n",
              " 3490,\n",
              " 3495,\n",
              " 3500,\n",
              " 3505,\n",
              " 3510,\n",
              " 3515,\n",
              " 3520,\n",
              " 3525,\n",
              " 3530,\n",
              " 3535,\n",
              " 3540,\n",
              " 3545,\n",
              " 3550,\n",
              " 3555,\n",
              " 3560,\n",
              " 3565,\n",
              " 3570,\n",
              " 3575,\n",
              " 3580,\n",
              " 3585,\n",
              " 3590,\n",
              " 3595,\n",
              " 3600,\n",
              " 3605,\n",
              " 3610,\n",
              " 3615,\n",
              " 3620,\n",
              " 3625,\n",
              " 3630,\n",
              " 3635,\n",
              " 3640,\n",
              " 3645,\n",
              " 3650,\n",
              " 3655,\n",
              " 3660,\n",
              " 3665,\n",
              " 3670,\n",
              " 3675,\n",
              " 3680,\n",
              " 3685,\n",
              " 3690,\n",
              " 3695,\n",
              " 3700,\n",
              " 3705,\n",
              " 3710,\n",
              " 3715,\n",
              " 3720,\n",
              " 3725,\n",
              " 3730,\n",
              " 3735,\n",
              " 3740,\n",
              " 3745,\n",
              " 3750,\n",
              " 3755,\n",
              " 3760,\n",
              " 3765,\n",
              " 3770,\n",
              " 3775,\n",
              " 3780,\n",
              " 3785,\n",
              " 3790,\n",
              " 3795,\n",
              " 3800,\n",
              " 3805,\n",
              " 3810,\n",
              " 3815,\n",
              " 3820,\n",
              " 3825,\n",
              " 3830,\n",
              " 3835,\n",
              " 3840,\n",
              " 3845,\n",
              " 3850,\n",
              " 3855,\n",
              " 3860,\n",
              " 3865,\n",
              " 3870,\n",
              " 3875,\n",
              " 3880,\n",
              " 3885,\n",
              " 3890,\n",
              " 3895,\n",
              " 3900,\n",
              " 3905,\n",
              " 3910,\n",
              " 3915,\n",
              " 3920,\n",
              " 3925,\n",
              " 3930,\n",
              " 3935,\n",
              " 3940,\n",
              " 3945,\n",
              " 3950,\n",
              " 3955,\n",
              " 3960,\n",
              " 3965,\n",
              " 3970,\n",
              " 3975,\n",
              " 3980,\n",
              " 3985,\n",
              " 3990,\n",
              " 3995,\n",
              " 4000,\n",
              " 4005,\n",
              " 4010,\n",
              " 4015,\n",
              " 4020,\n",
              " 4025,\n",
              " 4030,\n",
              " 4035,\n",
              " 4040,\n",
              " 4045,\n",
              " 4050,\n",
              " 4055,\n",
              " 4060,\n",
              " 4065,\n",
              " 4070,\n",
              " 4075,\n",
              " 4080,\n",
              " 4085,\n",
              " 4090,\n",
              " 4095,\n",
              " 4100,\n",
              " 4105,\n",
              " 4110,\n",
              " 4115,\n",
              " 4120,\n",
              " 4125,\n",
              " 4130,\n",
              " 4135,\n",
              " 4140,\n",
              " 4145,\n",
              " 4150,\n",
              " 4155,\n",
              " 4160,\n",
              " 4165,\n",
              " 4170,\n",
              " 4175,\n",
              " 4180,\n",
              " 4185,\n",
              " 4190,\n",
              " 4195,\n",
              " 4200,\n",
              " 4205,\n",
              " 4210,\n",
              " 4215,\n",
              " 4220,\n",
              " 4225,\n",
              " 4230,\n",
              " 4235,\n",
              " 4240,\n",
              " 4245,\n",
              " 4250,\n",
              " 4255,\n",
              " 4260,\n",
              " 4265,\n",
              " 4270,\n",
              " 4275,\n",
              " 4280,\n",
              " 4285,\n",
              " 4290,\n",
              " 4295,\n",
              " 4300,\n",
              " 4305,\n",
              " 4310,\n",
              " 4315,\n",
              " 4320,\n",
              " 4325,\n",
              " 4330,\n",
              " 4335,\n",
              " 4340,\n",
              " 4345,\n",
              " 4350,\n",
              " 4355,\n",
              " 4360,\n",
              " 4365,\n",
              " 4370,\n",
              " 4375,\n",
              " 4380,\n",
              " 4385,\n",
              " 4390,\n",
              " 4395,\n",
              " 4400,\n",
              " 4405,\n",
              " 4410,\n",
              " 4415,\n",
              " 4420,\n",
              " 4425,\n",
              " 4430,\n",
              " 4435,\n",
              " 4440,\n",
              " 4445,\n",
              " 4450,\n",
              " 4455,\n",
              " 4460,\n",
              " 4465,\n",
              " 4470,\n",
              " 4475,\n",
              " 4480,\n",
              " 4485,\n",
              " 4490,\n",
              " 4495,\n",
              " 4500,\n",
              " 4505,\n",
              " 4510,\n",
              " 4515,\n",
              " 4520,\n",
              " 4525,\n",
              " 4530,\n",
              " 4535,\n",
              " 4540,\n",
              " 4545,\n",
              " 4550,\n",
              " 4555,\n",
              " 4560,\n",
              " 4565,\n",
              " 4570,\n",
              " 4575,\n",
              " 4580,\n",
              " 4585,\n",
              " 4590,\n",
              " 4595,\n",
              " 4600,\n",
              " 4605,\n",
              " 4610,\n",
              " 4615,\n",
              " 4620,\n",
              " 4625,\n",
              " 4630,\n",
              " 4635,\n",
              " 4640,\n",
              " 4645,\n",
              " 4650,\n",
              " 4655,\n",
              " 4660,\n",
              " 4665,\n",
              " 4670,\n",
              " 4675,\n",
              " 4680,\n",
              " 4685,\n",
              " 4690,\n",
              " 4695,\n",
              " 4700,\n",
              " 4705,\n",
              " 4710,\n",
              " 4715,\n",
              " 4720,\n",
              " 4725,\n",
              " 4730,\n",
              " 4735,\n",
              " 4740,\n",
              " 4745,\n",
              " 4750,\n",
              " 4755,\n",
              " 4760,\n",
              " 4765,\n",
              " 4770,\n",
              " 4775,\n",
              " 4780,\n",
              " 4785,\n",
              " 4790,\n",
              " 4795,\n",
              " 4800,\n",
              " 4805,\n",
              " 4810,\n",
              " 4815,\n",
              " 4820,\n",
              " 4825,\n",
              " 4830,\n",
              " 4835,\n",
              " 4840,\n",
              " 4845,\n",
              " 4850,\n",
              " 4855,\n",
              " 4860,\n",
              " 4865,\n",
              " 4870,\n",
              " 4875,\n",
              " 4880,\n",
              " 4885,\n",
              " 4890,\n",
              " 4895,\n",
              " 4900,\n",
              " 4905,\n",
              " 4910,\n",
              " 4915,\n",
              " 4920,\n",
              " 4925,\n",
              " 4930,\n",
              " 4935,\n",
              " 4940,\n",
              " 4945,\n",
              " 4950,\n",
              " 4955,\n",
              " 4960,\n",
              " 4965,\n",
              " 4970,\n",
              " 4975,\n",
              " 4980,\n",
              " 4985,\n",
              " 4990,\n",
              " 4995,\n",
              " ...]"
            ]
          },
          "metadata": {},
          "execution_count": 32
        }
      ]
    },
    {
      "cell_type": "code",
      "source": [
        "five_times_table_lge = np.arange(0,5001,5)\n",
        "five_times_table_lge"
      ],
      "metadata": {
        "colab": {
          "base_uri": "https://localhost:8080/"
        },
        "id": "ZiK7AKnkhjdT",
        "outputId": "1c710e7f-3088-4bbe-bf60-1ad86a3b3a0c"
      },
      "execution_count": 33,
      "outputs": [
        {
          "output_type": "execute_result",
          "data": {
            "text/plain": [
              "array([   0,    5,   10, ..., 4990, 4995, 5000])"
            ]
          },
          "metadata": {},
          "execution_count": 33
        }
      ]
    },
    {
      "cell_type": "code",
      "source": [
        "%timeit five_times_table_lge + 5"
      ],
      "metadata": {
        "colab": {
          "base_uri": "https://localhost:8080/"
        },
        "id": "kHsbrNgtiC4l",
        "outputId": "822bc1b6-e28b-48d4-f4b1-c074150bd1c8"
      },
      "execution_count": 34,
      "outputs": [
        {
          "output_type": "stream",
          "name": "stdout",
          "text": [
            "1.25 µs ± 12.8 ns per loop (mean ± std. dev. of 7 runs, 1000000 loops each)\n"
          ]
        }
      ]
    },
    {
      "cell_type": "code",
      "source": [
        "%timeit [e + 5 for e in fives_list]"
      ],
      "metadata": {
        "colab": {
          "base_uri": "https://localhost:8080/"
        },
        "id": "t0_aUVDriKj5",
        "outputId": "0d266dc9-4808-4047-c004-b1a759257a2a"
      },
      "execution_count": 35,
      "outputs": [
        {
          "output_type": "stream",
          "name": "stdout",
          "text": [
            "59.4 µs ± 565 ns per loop (mean ± std. dev. of 7 runs, 10000 loops each)\n"
          ]
        }
      ]
    },
    {
      "cell_type": "markdown",
      "source": [
        "String Operations"
      ],
      "metadata": {
        "id": "JXS-_Q6QiaIC"
      }
    },
    {
      "cell_type": "code",
      "source": [
        "words = np.array( [\"ten\",\"nine\",\"eight\",\"seven\",\"six\"])\n",
        "print(np.isin(words,'e'))\n",
        "\n",
        "print(\"e\" in words)\n",
        "[\"e\" in word for word in words]"
      ],
      "metadata": {
        "colab": {
          "base_uri": "https://localhost:8080/"
        },
        "id": "GA42anF6iYmh",
        "outputId": "81c16a1a-345b-4402-c538-6b08dc76f7b3"
      },
      "execution_count": 36,
      "outputs": [
        {
          "output_type": "stream",
          "name": "stdout",
          "text": [
            "[False False False False False]\n",
            "False\n"
          ]
        },
        {
          "output_type": "execute_result",
          "data": {
            "text/plain": [
              "[True, True, True, True, False]"
            ]
          },
          "metadata": {},
          "execution_count": 36
        }
      ]
    },
    {
      "cell_type": "markdown",
      "source": [
        "Transpose"
      ],
      "metadata": {
        "id": "1Nrv7Up8jVhI"
      }
    },
    {
      "cell_type": "code",
      "source": [
        "# Transpose of a matrix\n",
        "people.shape = (2,6)\n",
        "print(people, \"\\n\")\n",
        "print(people.T)"
      ],
      "metadata": {
        "colab": {
          "base_uri": "https://localhost:8080/"
        },
        "id": "JbTTg0L_jEoB",
        "outputId": "395832e2-3c04-47d0-d58f-c4376e16a0f4"
      },
      "execution_count": 37,
      "outputs": [
        {
          "output_type": "stream",
          "name": "stdout",
          "text": [
            "[[10  5  8 32 65 43]\n",
            " [32 18 26 60 55 65]] \n",
            "\n",
            "[[10 32]\n",
            " [ 5 18]\n",
            " [ 8 26]\n",
            " [32 60]\n",
            " [65 55]\n",
            " [43 65]]\n"
          ]
        }
      ]
    },
    {
      "cell_type": "markdown",
      "source": [
        "Data Types"
      ],
      "metadata": {
        "id": "iHbRrWasjz-k"
      }
    },
    {
      "cell_type": "code",
      "source": [
        "# Obtaining the data type of an array\n",
        "people.dtype"
      ],
      "metadata": {
        "colab": {
          "base_uri": "https://localhost:8080/"
        },
        "id": "wYNSUpsYjp8L",
        "outputId": "591718f8-f449-4f1e-da08-6a6f2a43d65a"
      },
      "execution_count": 38,
      "outputs": [
        {
          "output_type": "execute_result",
          "data": {
            "text/plain": [
              "dtype('int64')"
            ]
          },
          "metadata": {},
          "execution_count": 38
        }
      ]
    },
    {
      "cell_type": "code",
      "source": [
        "ages_with_strings = np.array([10,5,8,'32','65','43'])\n",
        "ages_with_strings\n",
        "\n",
        "# To obtain the data type\n",
        "ages_with_strings.dtype"
      ],
      "metadata": {
        "colab": {
          "base_uri": "https://localhost:8080/"
        },
        "id": "7_Sn7LxEkC0x",
        "outputId": "78a9249c-316c-457f-c2af-433e337303ef"
      },
      "execution_count": 40,
      "outputs": [
        {
          "output_type": "execute_result",
          "data": {
            "text/plain": [
              "dtype('<U21')"
            ]
          },
          "metadata": {},
          "execution_count": 40
        }
      ]
    },
    {
      "cell_type": "code",
      "source": [
        "ages_with_strings = np.array([10,5,8,'32','65','43'], dtype = 'int32')\n",
        "ages_with_strings\n",
        "\n",
        "# Data type\n",
        "ages_with_strings.dtype"
      ],
      "metadata": {
        "colab": {
          "base_uri": "https://localhost:8080/"
        },
        "id": "WAw6rGpCkYnI",
        "outputId": "f69dc1d8-da46-4c02-e09e-7322c73e8aa8"
      },
      "execution_count": 42,
      "outputs": [
        {
          "output_type": "execute_result",
          "data": {
            "text/plain": [
              "dtype('int32')"
            ]
          },
          "metadata": {},
          "execution_count": 42
        }
      ]
    },
    {
      "cell_type": "code",
      "source": [
        "ages_with_strings = np.array([10,5,8,'32','65','43'])\n",
        "print(ages_with_strings)"
      ],
      "metadata": {
        "colab": {
          "base_uri": "https://localhost:8080/"
        },
        "id": "r-9MxJTHk5ur",
        "outputId": "3eb220db-0390-40e6-ae15-92866a73a25d"
      },
      "execution_count": 44,
      "outputs": [
        {
          "output_type": "stream",
          "name": "stdout",
          "text": [
            "['10' '5' '8' '32' '65' '43']\n"
          ]
        }
      ]
    },
    {
      "cell_type": "code",
      "source": [
        "ages_with_strings.dtype = 'int32'\n",
        "print(ages_with_strings)"
      ],
      "metadata": {
        "colab": {
          "base_uri": "https://localhost:8080/"
        },
        "id": "fC5fpInSm43d",
        "outputId": "de4b762f-6311-44e0-f8b1-de5115e7e9c6"
      },
      "execution_count": 45,
      "outputs": [
        {
          "output_type": "stream",
          "name": "stdout",
          "text": [
            "[49 48  0  0  0  0  0  0  0  0  0  0  0  0  0  0  0  0  0  0  0 53  0  0\n",
            "  0  0  0  0  0  0  0  0  0  0  0  0  0  0  0  0  0  0 56  0  0  0  0  0\n",
            "  0  0  0  0  0  0  0  0  0  0  0  0  0  0  0 51 50  0  0  0  0  0  0  0\n",
            "  0  0  0  0  0  0  0  0  0  0  0  0 54 53  0  0  0  0  0  0  0  0  0  0\n",
            "  0  0  0  0  0  0  0  0  0 52 51  0  0  0  0  0  0  0  0  0  0  0  0  0\n",
            "  0  0  0  0  0  0]\n"
          ]
        }
      ]
    },
    {
      "cell_type": "code",
      "source": [
        "ages_with_strings.size"
      ],
      "metadata": {
        "colab": {
          "base_uri": "https://localhost:8080/"
        },
        "id": "akkm-hwcnKrW",
        "outputId": "d516a84d-6cbb-4dca-f96a-62d5aac08978"
      },
      "execution_count": 46,
      "outputs": [
        {
          "output_type": "execute_result",
          "data": {
            "text/plain": [
              "126"
            ]
          },
          "metadata": {},
          "execution_count": 46
        }
      ]
    },
    {
      "cell_type": "code",
      "source": [
        "ages_with_strings.size/21"
      ],
      "metadata": {
        "colab": {
          "base_uri": "https://localhost:8080/"
        },
        "id": "UbQRPY1xnRTg",
        "outputId": "2bba5cfc-e65b-41ff-d387-adc2546d7548"
      },
      "execution_count": 47,
      "outputs": [
        {
          "output_type": "execute_result",
          "data": {
            "text/plain": [
              "6.0"
            ]
          },
          "metadata": {},
          "execution_count": 47
        }
      ]
    },
    {
      "cell_type": "code",
      "source": [
        "np.array([10,5,8,'32','65','43']).size\n"
      ],
      "metadata": {
        "colab": {
          "base_uri": "https://localhost:8080/"
        },
        "id": "AruKnt_inWMB",
        "outputId": "1732cb8b-76b5-4b25-fe1f-7b11bbb17268"
      },
      "execution_count": 48,
      "outputs": [
        {
          "output_type": "execute_result",
          "data": {
            "text/plain": [
              "6"
            ]
          },
          "metadata": {},
          "execution_count": 48
        }
      ]
    },
    {
      "cell_type": "markdown",
      "source": [
        "What happened here was when we tried to change the datatype to int32, the array size got multiplied by 21 and 120 zeros aappeared."
      ],
      "metadata": {
        "id": "4hLaH06fngfb"
      }
    },
    {
      "cell_type": "code",
      "source": [
        "# Changing the data type using the astype()\n",
        "ages_with_strings = np.array([10,5,8,'32','65','43'])\n",
        "print(ages_with_strings)\n",
        "print(ages_with_strings.astype('int32'))"
      ],
      "metadata": {
        "colab": {
          "base_uri": "https://localhost:8080/"
        },
        "id": "LpmG1sjfnem0",
        "outputId": "bcda8e8f-5938-404e-dfd6-84204ff0880a"
      },
      "execution_count": 49,
      "outputs": [
        {
          "output_type": "stream",
          "name": "stdout",
          "text": [
            "['10' '5' '8' '32' '65' '43']\n",
            "[10  5  8 32 65 43]\n"
          ]
        }
      ]
    },
    {
      "cell_type": "markdown",
      "source": [
        "EXERCISE"
      ],
      "metadata": {
        "id": "0_y8uRZuoSIh"
      }
    },
    {
      "cell_type": "code",
      "source": [
        "arrString = np.array(['1','2','5','7','9'])\n",
        "print(arrString)"
      ],
      "metadata": {
        "colab": {
          "base_uri": "https://localhost:8080/"
        },
        "id": "RKeqH_t9oGMa",
        "outputId": "0eb15ad9-0ae0-4986-a927-2bc5403e8777"
      },
      "execution_count": 50,
      "outputs": [
        {
          "output_type": "stream",
          "name": "stdout",
          "text": [
            "['1' '2' '5' '7' '9']\n"
          ]
        }
      ]
    },
    {
      "cell_type": "code",
      "source": [
        "arrString.dtype = 'float32'\n",
        "print(arrString)"
      ],
      "metadata": {
        "colab": {
          "base_uri": "https://localhost:8080/"
        },
        "id": "Z8s8NkHzov41",
        "outputId": "9c335c5d-d443-447b-d3e0-a8473ed96047"
      },
      "execution_count": 53,
      "outputs": [
        {
          "output_type": "stream",
          "name": "stdout",
          "text": [
            "[6.9e-44 7.0e-44 7.4e-44 7.7e-44 8.0e-44]\n"
          ]
        }
      ]
    },
    {
      "cell_type": "code",
      "source": [
        ""
      ],
      "metadata": {
        "id": "OzR9mA7nqFAV"
      },
      "execution_count": 55,
      "outputs": []
    },
    {
      "cell_type": "code",
      "source": [
        "arrString2 = arrString.T\n",
        "print(arrString2)\n",
        "print(\"Size:\\t\",arrString2.size)\n",
        "print(\"Shape:\\t\",arrString2.shape)\n"
      ],
      "metadata": {
        "colab": {
          "base_uri": "https://localhost:8080/"
        },
        "id": "GeG-hZZzpGZ3",
        "outputId": "b7dc4172-df0c-4a86-9ffa-a01f87c3cf91"
      },
      "execution_count": 54,
      "outputs": [
        {
          "output_type": "stream",
          "name": "stdout",
          "text": [
            "[6.9e-44 7.0e-44 7.4e-44 7.7e-44 8.0e-44]\n",
            "Size:\t 5\n",
            "Shape:\t (5,)\n"
          ]
        }
      ]
    },
    {
      "cell_type": "code",
      "source": [
        "print(arrString.astype(bool))"
      ],
      "metadata": {
        "colab": {
          "base_uri": "https://localhost:8080/"
        },
        "id": "toMSngHNp_ot",
        "outputId": "cfcc3bc8-0aaf-4d0a-d5fa-f996e5ec60d8"
      },
      "execution_count": 56,
      "outputs": [
        {
          "output_type": "stream",
          "name": "stdout",
          "text": [
            "[ True  True  True  True  True]\n"
          ]
        }
      ]
    },
    {
      "cell_type": "markdown",
      "source": [
        "ARRAY SLICING OPERATION"
      ],
      "metadata": {
        "id": "aYgheHh8qazn"
      }
    },
    {
      "cell_type": "code",
      "source": [
        "five_times_table"
      ],
      "metadata": {
        "colab": {
          "base_uri": "https://localhost:8080/"
        },
        "id": "EKVv9niyqaTD",
        "outputId": "c4f04e9c-9d0c-4d18-84b5-1d8fe30e35b4"
      },
      "execution_count": 57,
      "outputs": [
        {
          "output_type": "execute_result",
          "data": {
            "text/plain": [
              "array([ 0,  5, 10, 15, 20, 25, 30, 35, 40, 45, 50])"
            ]
          },
          "metadata": {},
          "execution_count": 57
        }
      ]
    },
    {
      "cell_type": "code",
      "source": [
        "five_times_table[0]"
      ],
      "metadata": {
        "colab": {
          "base_uri": "https://localhost:8080/"
        },
        "id": "GwnUFbzWqXWP",
        "outputId": "b8df1e83-fd1a-4024-e682-c5397f566daf"
      },
      "execution_count": 58,
      "outputs": [
        {
          "output_type": "execute_result",
          "data": {
            "text/plain": [
              "0"
            ]
          },
          "metadata": {},
          "execution_count": 58
        }
      ]
    },
    {
      "cell_type": "code",
      "source": [
        "five_times_table[-1]"
      ],
      "metadata": {
        "colab": {
          "base_uri": "https://localhost:8080/"
        },
        "id": "uyaHGehsqklc",
        "outputId": "74e922f0-21b9-4a66-a1a6-3c745b73f9dd"
      },
      "execution_count": 59,
      "outputs": [
        {
          "output_type": "execute_result",
          "data": {
            "text/plain": [
              "50"
            ]
          },
          "metadata": {},
          "execution_count": 59
        }
      ]
    },
    {
      "cell_type": "code",
      "source": [
        "five_times_table[:4]"
      ],
      "metadata": {
        "colab": {
          "base_uri": "https://localhost:8080/"
        },
        "id": "7073PSECqmj0",
        "outputId": "554c3b81-e9af-4235-bb51-d534e250dcd7"
      },
      "execution_count": 60,
      "outputs": [
        {
          "output_type": "execute_result",
          "data": {
            "text/plain": [
              "array([ 0,  5, 10, 15])"
            ]
          },
          "metadata": {},
          "execution_count": 60
        }
      ]
    },
    {
      "cell_type": "code",
      "source": [
        "five_times_table[4:]"
      ],
      "metadata": {
        "colab": {
          "base_uri": "https://localhost:8080/"
        },
        "id": "iJOy_7Hvqprj",
        "outputId": "dbd9e367-21c5-4cc9-e4cc-bdc598a5388f"
      },
      "execution_count": 61,
      "outputs": [
        {
          "output_type": "execute_result",
          "data": {
            "text/plain": [
              "array([20, 25, 30, 35, 40, 45, 50])"
            ]
          },
          "metadata": {},
          "execution_count": 61
        }
      ]
    },
    {
      "cell_type": "code",
      "source": [
        "# for 2D arrays\n",
        "print(people)\n",
        "people[:3,:3]"
      ],
      "metadata": {
        "colab": {
          "base_uri": "https://localhost:8080/"
        },
        "id": "OdHAnPSTqsKU",
        "outputId": "fa35f8a1-e125-4078-8c4c-b25bf93b2446"
      },
      "execution_count": 62,
      "outputs": [
        {
          "output_type": "stream",
          "name": "stdout",
          "text": [
            "[[10  5  8 32 65 43]\n",
            " [32 18 26 60 55 65]]\n"
          ]
        },
        {
          "output_type": "execute_result",
          "data": {
            "text/plain": [
              "array([[10,  5,  8],\n",
              "       [32, 18, 26]])"
            ]
          },
          "metadata": {},
          "execution_count": 62
        }
      ]
    },
    {
      "cell_type": "markdown",
      "source": [
        "EXERCISE"
      ],
      "metadata": {
        "id": "95bF6yC-q5y5"
      }
    },
    {
      "cell_type": "code",
      "source": [
        "# an array with 50 zeros\n",
        "arrZero = np.zeros(50)\n",
        "print(arrZero)"
      ],
      "metadata": {
        "colab": {
          "base_uri": "https://localhost:8080/"
        },
        "id": "sC0FlaBNq2Kh",
        "outputId": "0507e007-8ded-4e2b-8528-8965d56793f9"
      },
      "execution_count": 64,
      "outputs": [
        {
          "output_type": "stream",
          "name": "stdout",
          "text": [
            "[0. 0. 0. 0. 0. 0. 0. 0. 0. 0. 0. 0. 0. 0. 0. 0. 0. 0. 0. 0. 0. 0. 0. 0.\n",
            " 0. 0. 0. 0. 0. 0. 0. 0. 0. 0. 0. 0. 0. 0. 0. 0. 0. 0. 0. 0. 0. 0. 0. 0.\n",
            " 0. 0.]\n"
          ]
        }
      ]
    },
    {
      "cell_type": "code",
      "source": [
        "# an array twenty 2s\n",
        "arrTwos = np.repeat(2,20)\n",
        "print(arrTwos)"
      ],
      "metadata": {
        "colab": {
          "base_uri": "https://localhost:8080/"
        },
        "id": "iyz6onOsrFfR",
        "outputId": "cda3db33-1ac4-40e7-8871-b825db6ca1eb"
      },
      "execution_count": 65,
      "outputs": [
        {
          "output_type": "stream",
          "name": "stdout",
          "text": [
            "[2 2 2 2 2 2 2 2 2 2 2 2 2 2 2 2 2 2 2 2]\n"
          ]
        }
      ]
    },
    {
      "cell_type": "code",
      "source": [
        "# an array from 0 to 2 pi \n",
        "import math\n",
        "arrPi = np.arange(0,2*math.pi,0.1)\n",
        "print(arrPi)"
      ],
      "metadata": {
        "colab": {
          "base_uri": "https://localhost:8080/"
        },
        "id": "FVxBjVfJrV3c",
        "outputId": "6ee7d04c-e28b-4b87-afa1-24b2282c6cfc"
      },
      "execution_count": 67,
      "outputs": [
        {
          "output_type": "stream",
          "name": "stdout",
          "text": [
            "[0.  0.1 0.2 0.3 0.4 0.5 0.6 0.7 0.8 0.9 1.  1.1 1.2 1.3 1.4 1.5 1.6 1.7\n",
            " 1.8 1.9 2.  2.1 2.2 2.3 2.4 2.5 2.6 2.7 2.8 2.9 3.  3.1 3.2 3.3 3.4 3.5\n",
            " 3.6 3.7 3.8 3.9 4.  4.1 4.2 4.3 4.4 4.5 4.6 4.7 4.8 4.9 5.  5.1 5.2 5.3\n",
            " 5.4 5.5 5.6 5.7 5.8 5.9 6.  6.1 6.2]\n"
          ]
        }
      ]
    },
    {
      "cell_type": "code",
      "source": [
        "# first five values \n",
        "arrPi[:5]"
      ],
      "metadata": {
        "colab": {
          "base_uri": "https://localhost:8080/"
        },
        "id": "yKjluf4tryBo",
        "outputId": "2bdfa882-529c-487d-9f90-122623f6d921"
      },
      "execution_count": 68,
      "outputs": [
        {
          "output_type": "execute_result",
          "data": {
            "text/plain": [
              "array([0. , 0.1, 0.2, 0.3, 0.4])"
            ]
          },
          "metadata": {},
          "execution_count": 68
        }
      ]
    },
    {
      "cell_type": "code",
      "source": [
        "# last 3 values\n",
        "arrPi[-3:]"
      ],
      "metadata": {
        "colab": {
          "base_uri": "https://localhost:8080/"
        },
        "id": "P9P5MrvEsCtj",
        "outputId": "c3119fcb-da00-4287-bb68-f6d608772e3c"
      },
      "execution_count": 73,
      "outputs": [
        {
          "output_type": "execute_result",
          "data": {
            "text/plain": [
              "array([6. , 6.1, 6.2])"
            ]
          },
          "metadata": {},
          "execution_count": 73
        }
      ]
    },
    {
      "cell_type": "code",
      "source": [
        "# 4th to 7th value\n",
        "arrPi[3:7]"
      ],
      "metadata": {
        "colab": {
          "base_uri": "https://localhost:8080/"
        },
        "id": "oPL7y6_nsMgj",
        "outputId": "01df0ecd-5b12-4930-cde0-9b2d841d609f"
      },
      "execution_count": 75,
      "outputs": [
        {
          "output_type": "execute_result",
          "data": {
            "text/plain": [
              "array([0.3, 0.4, 0.5, 0.6])"
            ]
          },
          "metadata": {},
          "execution_count": 75
        }
      ]
    },
    {
      "cell_type": "code",
      "source": [
        "# Reversing an array using flip()\n",
        "reverse_five_times_table = np.flip(five_times_table)\n",
        "reverse_five_times_table"
      ],
      "metadata": {
        "colab": {
          "base_uri": "https://localhost:8080/"
        },
        "id": "m3I3b7lfsvyv",
        "outputId": "7c9b56a5-9f65-4752-9619-6859624c3760"
      },
      "execution_count": 76,
      "outputs": [
        {
          "output_type": "execute_result",
          "data": {
            "text/plain": [
              "array([50, 45, 40, 35, 30, 25, 20, 15, 10,  5,  0])"
            ]
          },
          "metadata": {},
          "execution_count": 76
        }
      ]
    },
    {
      "cell_type": "code",
      "source": [
        "reverse_five_times_table = five_times_table[-1::-1]\n",
        "print(reverse_five_times_table)\n",
        "five_times_table"
      ],
      "metadata": {
        "colab": {
          "base_uri": "https://localhost:8080/"
        },
        "id": "NXajLwxHtFt_",
        "outputId": "c4d102d2-999b-4e3f-8d8e-6c88ce27a5f7"
      },
      "execution_count": 77,
      "outputs": [
        {
          "output_type": "stream",
          "name": "stdout",
          "text": [
            "[50 45 40 35 30 25 20 15 10  5  0]\n"
          ]
        },
        {
          "output_type": "execute_result",
          "data": {
            "text/plain": [
              "array([ 0,  5, 10, 15, 20, 25, 30, 35, 40, 45, 50])"
            ]
          },
          "metadata": {},
          "execution_count": 77
        }
      ]
    },
    {
      "cell_type": "code",
      "source": [
        "# Every third element starting from 0\n",
        "five_times_table[0::3]"
      ],
      "metadata": {
        "colab": {
          "base_uri": "https://localhost:8080/"
        },
        "id": "C9SGvgdktS7T",
        "outputId": "ec76ae66-af26-4892-f52a-ffc440049f76"
      },
      "execution_count": 78,
      "outputs": [
        {
          "output_type": "execute_result",
          "data": {
            "text/plain": [
              "array([ 0, 15, 30, 45])"
            ]
          },
          "metadata": {},
          "execution_count": 78
        }
      ]
    },
    {
      "cell_type": "markdown",
      "source": [
        "EXERCISE"
      ],
      "metadata": {
        "id": "K97bTCzCti5D"
      }
    },
    {
      "cell_type": "code",
      "source": [
        "reverse_arrPi = np.flip(arrPi)\n",
        "print(reverse_arrPi)"
      ],
      "metadata": {
        "colab": {
          "base_uri": "https://localhost:8080/"
        },
        "id": "0SuR4tj4tbIA",
        "outputId": "295cd697-44b7-4b0c-8d9a-14e4385eac73"
      },
      "execution_count": 79,
      "outputs": [
        {
          "output_type": "stream",
          "name": "stdout",
          "text": [
            "[6.2 6.1 6.  5.9 5.8 5.7 5.6 5.5 5.4 5.3 5.2 5.1 5.  4.9 4.8 4.7 4.6 4.5\n",
            " 4.4 4.3 4.2 4.1 4.  3.9 3.8 3.7 3.6 3.5 3.4 3.3 3.2 3.1 3.  2.9 2.8 2.7\n",
            " 2.6 2.5 2.4 2.3 2.2 2.1 2.  1.9 1.8 1.7 1.6 1.5 1.4 1.3 1.2 1.1 1.  0.9\n",
            " 0.8 0.7 0.6 0.5 0.4 0.3 0.2 0.1 0. ]\n"
          ]
        }
      ]
    },
    {
      "cell_type": "code",
      "source": [
        "reverse_arrPi[::4]"
      ],
      "metadata": {
        "colab": {
          "base_uri": "https://localhost:8080/"
        },
        "id": "muZIY_30t3r2",
        "outputId": "97105e3b-2672-46b7-86de-cd06278a10fc"
      },
      "execution_count": 81,
      "outputs": [
        {
          "output_type": "execute_result",
          "data": {
            "text/plain": [
              "array([6.2, 5.8, 5.4, 5. , 4.6, 4.2, 3.8, 3.4, 3. , 2.6, 2.2, 1.8, 1.4,\n",
              "       1. , 0.6, 0.2])"
            ]
          },
          "metadata": {},
          "execution_count": 81
        }
      ]
    },
    {
      "cell_type": "code",
      "source": [
        "reverse_arrPi[-1::-2]"
      ],
      "metadata": {
        "colab": {
          "base_uri": "https://localhost:8080/"
        },
        "id": "8YvAxTDAuI6o",
        "outputId": "98a466b8-2e1e-40d0-c634-232f81f278c0"
      },
      "execution_count": 83,
      "outputs": [
        {
          "output_type": "execute_result",
          "data": {
            "text/plain": [
              "array([0. , 0.2, 0.4, 0.6, 0.8, 1. , 1.2, 1.4, 1.6, 1.8, 2. , 2.2, 2.4,\n",
              "       2.6, 2.8, 3. , 3.2, 3.4, 3.6, 3.8, 4. , 4.2, 4.4, 4.6, 4.8, 5. ,\n",
              "       5.2, 5.4, 5.6, 5.8, 6. , 6.2])"
            ]
          },
          "metadata": {},
          "execution_count": 83
        }
      ]
    },
    {
      "cell_type": "markdown",
      "source": [
        "STATS"
      ],
      "metadata": {
        "id": "ggDKg5bCubJn"
      }
    },
    {
      "cell_type": "code",
      "source": [
        "np.array([1.65432,5.98765]).round(2)"
      ],
      "metadata": {
        "colab": {
          "base_uri": "https://localhost:8080/"
        },
        "id": "20nFF-9DuVT5",
        "outputId": "d554e742-86e7-457f-e110-312fb45c955d"
      },
      "execution_count": 84,
      "outputs": [
        {
          "output_type": "execute_result",
          "data": {
            "text/plain": [
              "array([1.65, 5.99])"
            ]
          },
          "metadata": {},
          "execution_count": 84
        }
      ]
    },
    {
      "cell_type": "code",
      "source": [
        "nums = np.arange(0,4,0.2555)"
      ],
      "metadata": {
        "id": "a5w_jRT7uxzW"
      },
      "execution_count": 86,
      "outputs": []
    },
    {
      "cell_type": "code",
      "source": [
        "# Printing the minimum,maximum,sum,mean,median,variance,standard deviation \n",
        "print(\"min= \",np.min(nums).round(2))\n",
        "print(\"max= \",np.max(nums).round(2))\n",
        "print(\"sum= \",np.sum(nums).round(2))\n",
        "print(\"mean= \",np.mean(nums).round(2))\n",
        "print(\"median= \",np.median(nums).round(2))\n",
        "print(\"var= \",np.var(nums).round(2))\n",
        "print(\"std= \",np.std(nums).round(2))"
      ],
      "metadata": {
        "colab": {
          "base_uri": "https://localhost:8080/"
        },
        "id": "486l6NyRu5Jk",
        "outputId": "9500aea0-8130-4ed4-a9b3-13caa6cfb160"
      },
      "execution_count": 87,
      "outputs": [
        {
          "output_type": "stream",
          "name": "stdout",
          "text": [
            "min=  0.0\n",
            "max=  3.83\n",
            "sum=  30.66\n",
            "mean=  1.92\n",
            "median=  1.92\n",
            "var=  1.39\n",
            "std=  1.18\n"
          ]
        }
      ]
    },
    {
      "cell_type": "markdown",
      "source": [
        "RANDOM"
      ],
      "metadata": {
        "id": "4MZlefF7v7Gf"
      }
    },
    {
      "cell_type": "code",
      "source": [
        "# Fair coin toss\n",
        "flip = np.random.choice([0,1],10)\n",
        "flip"
      ],
      "metadata": {
        "colab": {
          "base_uri": "https://localhost:8080/"
        },
        "id": "pn_byZbgvzcX",
        "outputId": "692b4438-b926-4887-e063-5d7b2c7f29a6"
      },
      "execution_count": 88,
      "outputs": [
        {
          "output_type": "execute_result",
          "data": {
            "text/plain": [
              "array([0, 0, 0, 1, 0, 1, 1, 0, 0, 1])"
            ]
          },
          "metadata": {},
          "execution_count": 88
        }
      ]
    },
    {
      "cell_type": "code",
      "source": [
        "np.random.rand(10,20,9)"
      ],
      "metadata": {
        "colab": {
          "base_uri": "https://localhost:8080/"
        },
        "id": "dfO112UTwTqv",
        "outputId": "203cd022-cd3a-47bf-c3a8-e6bb6e765ce3"
      },
      "execution_count": 90,
      "outputs": [
        {
          "output_type": "execute_result",
          "data": {
            "text/plain": [
              "array([[[0.67207647, 0.57471233, 0.61556312, ..., 0.9394185 ,\n",
              "         0.58757329, 0.24989032],\n",
              "        [0.0898844 , 0.28651162, 0.85214766, ..., 0.38849161,\n",
              "         0.75271509, 0.63534583],\n",
              "        [0.52406843, 0.42062967, 0.53363482, ..., 0.87796759,\n",
              "         0.59779465, 0.64816714],\n",
              "        ...,\n",
              "        [0.68256601, 0.58495132, 0.71525985, ..., 0.66945964,\n",
              "         0.27537693, 0.26286749],\n",
              "        [0.72370156, 0.97596787, 0.07003584, ..., 0.43474393,\n",
              "         0.22939469, 0.54969239],\n",
              "        [0.75195815, 0.20397406, 0.00964109, ..., 0.82050619,\n",
              "         0.90678741, 0.68114272]],\n",
              "\n",
              "       [[0.74377519, 0.40502129, 0.08560368, ..., 0.18421008,\n",
              "         0.52922382, 0.68239912],\n",
              "        [0.1120986 , 0.53896036, 0.32170788, ..., 0.95912814,\n",
              "         0.75061021, 0.44397288],\n",
              "        [0.34030131, 0.02740837, 0.75592044, ..., 0.63515245,\n",
              "         0.10695235, 0.94062556],\n",
              "        ...,\n",
              "        [0.26064785, 0.16177165, 0.39121772, ..., 0.33587518,\n",
              "         0.78735106, 0.69864082],\n",
              "        [0.57504886, 0.50333261, 0.67106228, ..., 0.96280289,\n",
              "         0.08774085, 0.42015242],\n",
              "        [0.71624156, 0.65446677, 0.04239492, ..., 0.63936865,\n",
              "         0.37055451, 0.30485046]],\n",
              "\n",
              "       [[0.11566333, 0.54393418, 0.4843001 , ..., 0.75420948,\n",
              "         0.79189145, 0.40020994],\n",
              "        [0.13578539, 0.20445006, 0.40292933, ..., 0.81585677,\n",
              "         0.02875441, 0.14244488],\n",
              "        [0.25352551, 0.31580118, 0.111688  , ..., 0.07424123,\n",
              "         0.34408109, 0.07968966],\n",
              "        ...,\n",
              "        [0.96390861, 0.09242578, 0.36489392, ..., 0.05219743,\n",
              "         0.9292091 , 0.46074284],\n",
              "        [0.73681711, 0.43193947, 0.47756725, ..., 0.10846987,\n",
              "         0.40706363, 0.70901856],\n",
              "        [0.70743019, 0.25469549, 0.89724066, ..., 0.41516766,\n",
              "         0.68147969, 0.58977584]],\n",
              "\n",
              "       ...,\n",
              "\n",
              "       [[0.38643123, 0.1480266 , 0.11842806, ..., 0.20395191,\n",
              "         0.83784463, 0.45523236],\n",
              "        [0.0764345 , 0.07811891, 0.94351142, ..., 0.2973421 ,\n",
              "         0.40175795, 0.60968173],\n",
              "        [0.28891842, 0.34975725, 0.27199497, ..., 0.99617232,\n",
              "         0.85858537, 0.29788046],\n",
              "        ...,\n",
              "        [0.55657393, 0.2085859 , 0.9773487 , ..., 0.07503809,\n",
              "         0.8735872 , 0.05888575],\n",
              "        [0.92971571, 0.87161405, 0.73520973, ..., 0.13824393,\n",
              "         0.47929338, 0.89091621],\n",
              "        [0.10813292, 0.80815821, 0.84035088, ..., 0.70940598,\n",
              "         0.09015995, 0.47882864]],\n",
              "\n",
              "       [[0.08486617, 0.20567515, 0.08120983, ..., 0.04396753,\n",
              "         0.87175323, 0.88569966],\n",
              "        [0.27691637, 0.43930836, 0.37742327, ..., 0.61364891,\n",
              "         0.27702765, 0.35893312],\n",
              "        [0.82524951, 0.09974332, 0.66431216, ..., 0.72296252,\n",
              "         0.05465823, 0.12190405],\n",
              "        ...,\n",
              "        [0.65167973, 0.97178033, 0.52472675, ..., 0.32912619,\n",
              "         0.08648209, 0.67132187],\n",
              "        [0.17099325, 0.87119811, 0.41585342, ..., 0.29748096,\n",
              "         0.14611291, 0.04033051],\n",
              "        [0.84870696, 0.41855876, 0.1446997 , ..., 0.71334543,\n",
              "         0.49099578, 0.65909089]],\n",
              "\n",
              "       [[0.3531346 , 0.90532247, 0.18941169, ..., 0.84145076,\n",
              "         0.27892514, 0.9347512 ],\n",
              "        [0.40772369, 0.73035775, 0.92436201, ..., 0.46454036,\n",
              "         0.34744085, 0.14611546],\n",
              "        [0.90322135, 0.8804081 , 0.53167592, ..., 0.74252991,\n",
              "         0.21770104, 0.79770851],\n",
              "        ...,\n",
              "        [0.87040093, 0.45222105, 0.56323623, ..., 0.77966122,\n",
              "         0.5848814 , 0.60201214],\n",
              "        [0.9216504 , 0.64413668, 0.48903585, ..., 0.87647682,\n",
              "         0.60523625, 0.84570501],\n",
              "        [0.8241314 , 0.36511515, 0.48418653, ..., 0.47549033,\n",
              "         0.99109447, 0.99804698]]])"
            ]
          },
          "metadata": {},
          "execution_count": 90
        }
      ]
    },
    {
      "cell_type": "code",
      "source": [
        "# Datapoints from a normal distribution\n",
        "mu,sigma = 0, 0.1 # mean and standard deviation\n",
        "s = np.random.normal(mu,sigma,1000)\n",
        "print(s)"
      ],
      "metadata": {
        "colab": {
          "base_uri": "https://localhost:8080/"
        },
        "id": "WPN0dQQOwaZG",
        "outputId": "41f5143e-5c12-4e64-f991-e28104155439"
      },
      "execution_count": 92,
      "outputs": [
        {
          "output_type": "stream",
          "name": "stdout",
          "text": [
            "[ 2.35861292e-02  1.74565129e-02  2.29264555e-02 -1.12223129e-01\n",
            " -5.70835968e-02 -1.37671228e-01  4.63643247e-02 -1.66250881e-01\n",
            " -5.04442789e-02 -1.25919650e-02 -7.20022827e-02 -7.03937307e-02\n",
            "  3.05356725e-02  1.26952022e-01  6.36503263e-02  5.77136898e-02\n",
            "  2.67408088e-02 -5.02575620e-02  7.80457893e-02  1.29290842e-02\n",
            " -2.15032733e-01 -1.54792725e-01  2.59684108e-01  1.10910151e-01\n",
            " -7.50763310e-02  1.36590121e-01  1.12529817e-01 -9.32781129e-02\n",
            "  6.37552809e-02 -2.89826674e-02 -1.80862899e-01  3.86103256e-02\n",
            " -1.41508157e-01  1.45002405e-01  1.05654076e-01 -1.28561729e-02\n",
            " -6.81625629e-02  1.23029121e-01  7.93929071e-03 -5.70593261e-02\n",
            " -1.33179746e-01  6.40600920e-02 -3.21657160e-02 -1.44987653e-01\n",
            " -8.49019559e-02  6.24828790e-02 -3.00079606e-02 -1.23538895e-01\n",
            " -6.03721604e-02  1.73664646e-01  1.04836779e-01 -5.83743334e-03\n",
            "  4.40238530e-02 -1.15816815e-01  8.50294705e-02 -4.46848784e-02\n",
            " -2.12891992e-01  1.31174983e-01  3.73014049e-02 -4.35590588e-02\n",
            " -1.08798617e-01  2.76965344e-02  9.73432324e-02 -1.69776166e-01\n",
            " -1.10773576e-01  2.01107302e-03 -8.41418509e-02  6.63075279e-02\n",
            "  3.17385671e-02  2.32488980e-01 -1.06988402e-01  1.31299919e-02\n",
            "  1.11132692e-01 -1.67650241e-01 -9.10831815e-03  3.63048016e-02\n",
            " -2.93950235e-02 -5.69173312e-02  1.74643070e-02 -2.36619236e-02\n",
            "  5.41304937e-02 -1.70814762e-02  8.03037028e-02  1.83400560e-01\n",
            "  1.18030031e-01 -5.38163681e-02 -1.15823933e-02 -8.77988107e-02\n",
            " -3.88149862e-03  4.56901841e-02  1.12832699e-01  2.15739650e-01\n",
            " -9.05170130e-02 -2.07186731e-02 -1.22821886e-01 -1.29986192e-01\n",
            " -1.48983905e-01 -7.73087994e-03 -1.38630949e-01 -2.62875025e-02\n",
            " -1.71762993e-01  1.05613620e-01 -3.31452302e-02  1.69906697e-03\n",
            "  5.11015301e-02  5.77191271e-02 -1.16718998e-01 -1.07480398e-01\n",
            " -2.35772422e-02 -1.39749647e-01 -3.48602187e-02 -5.08821768e-02\n",
            "  7.23902832e-02 -5.87474190e-02 -6.21407429e-02  9.48150520e-02\n",
            "  4.45815655e-02  6.34491982e-02  7.23526609e-02 -2.85898203e-02\n",
            "  1.87755058e-01  2.42162735e-02  6.92549931e-02  1.41878491e-02\n",
            " -1.28267267e-01  5.53280987e-03  8.07159321e-02  4.45268627e-02\n",
            "  1.38717998e-02 -5.82651377e-02  1.92805663e-01 -7.95847033e-02\n",
            " -8.10640196e-03  4.43708425e-02 -3.69930659e-02 -9.14360149e-02\n",
            " -8.19107780e-02  5.58935542e-02 -1.11625423e-01 -6.92889085e-02\n",
            "  9.60134065e-02  9.62528364e-03  6.48294598e-02 -7.72147337e-02\n",
            " -9.02056971e-02  7.87325823e-02  1.26797295e-01 -3.21758289e-02\n",
            "  4.67897256e-02 -8.73770988e-02 -8.89700375e-02 -2.66539927e-01\n",
            "  4.67582818e-02 -3.03038476e-02  1.68278055e-01 -5.31119019e-02\n",
            "  1.42928906e-02  1.72144898e-01  3.55496369e-02 -6.19389656e-02\n",
            " -1.95802286e-01  1.62832859e-02 -2.54878419e-02  7.85196118e-02\n",
            " -5.27550856e-03 -1.16819206e-02  9.35926295e-03 -5.50931499e-02\n",
            "  1.47218960e-01  1.83198455e-01 -9.38478121e-02 -9.37279965e-02\n",
            " -1.47361356e-02 -3.57565253e-03  8.87252094e-02  3.56158366e-02\n",
            " -4.83672103e-02  1.64457113e-01 -1.36984435e-01 -4.90095192e-02\n",
            " -1.00852982e-01 -5.41903505e-02  1.53487124e-01  7.93636779e-02\n",
            " -1.55418076e-01  8.10119109e-02 -1.69241800e-01 -1.09461330e-01\n",
            " -2.69821293e-02 -1.75634851e-02  1.72923700e-01  6.26036907e-02\n",
            " -3.27237269e-02 -3.33524172e-02  1.64393459e-01  3.19438780e-02\n",
            " -9.43756744e-02 -6.93017360e-02  1.21167111e-01 -2.23068416e-02\n",
            "  4.82764220e-02 -2.74411880e-02 -1.40913814e-01 -8.63213560e-02\n",
            " -1.33688136e-03  2.28935183e-03 -6.82500210e-02 -1.06832197e-01\n",
            " -1.00636083e-02  4.98632977e-02 -2.58756780e-02  3.56481747e-02\n",
            " -5.40019924e-02  7.31198579e-02 -1.40631380e-01 -1.20393268e-02\n",
            "  2.12481659e-02  1.28842424e-01 -2.24238774e-01 -8.84555305e-02\n",
            "  9.09824667e-02  5.63364243e-02  8.45692048e-02  1.69688109e-01\n",
            " -7.77403003e-02  3.94514741e-02 -6.47701149e-02 -5.02554887e-02\n",
            " -1.41452379e-01  6.16320813e-02 -1.06150252e-02 -2.41401786e-02\n",
            "  1.07674725e-01 -1.39454305e-01 -5.52359706e-02  1.37353508e-01\n",
            " -2.59610152e-02  5.18582188e-02  2.94746725e-02 -1.78577581e-02\n",
            " -4.88195446e-02 -5.39274930e-02 -1.88018187e-02  1.06628812e-01\n",
            " -4.63286621e-02  7.04081656e-02  9.43602097e-02  9.53607596e-02\n",
            "  8.47424713e-02  1.10128710e-01  1.46789636e-01  6.27817108e-03\n",
            "  7.02300740e-02  6.92321805e-02 -1.28435477e-01 -1.14630847e-02\n",
            " -9.17930043e-02 -3.90518201e-02 -1.50472034e-01 -7.12332438e-02\n",
            "  7.99174903e-02 -2.29376045e-02  1.41787920e-02 -1.66305125e-01\n",
            "  6.94175837e-02 -6.08013518e-02 -8.01212032e-02  2.43291204e-01\n",
            "  1.06251369e-02 -1.75522119e-01 -1.96404812e-02 -5.49505220e-03\n",
            " -1.28942749e-01 -1.42935630e-01 -1.84544507e-03 -1.40534199e-01\n",
            "  4.47374164e-02  2.89029675e-01 -8.24341733e-02  9.87856975e-02\n",
            " -6.94755432e-03  9.07645187e-02  1.59091104e-01 -8.20723106e-02\n",
            " -3.68753585e-02  4.29853912e-03  3.40680735e-02  2.10288631e-01\n",
            "  1.24089481e-01  1.19178547e-01  1.33190358e-01  8.78361259e-02\n",
            " -5.99468476e-02  7.15083140e-03  3.66107322e-03 -3.38401856e-02\n",
            " -1.79910961e-01  8.60127471e-02  8.46607021e-03 -2.29589939e-01\n",
            " -6.97824575e-02 -6.80517356e-03 -3.29286809e-02 -2.81330804e-02\n",
            "  5.68596505e-02  2.89025209e-02 -1.81797442e-01  1.08513238e-01\n",
            "  5.13527378e-02 -8.52036552e-02 -8.64417401e-03  9.87057255e-02\n",
            "  1.80618186e-02  4.19836745e-02 -6.19648420e-02 -2.41678768e-02\n",
            "  5.52715515e-03  1.86485253e-01 -1.71678824e-02  4.63358922e-02\n",
            "  1.07036827e-01 -9.99224826e-02  2.09308659e-02  5.57876695e-02\n",
            " -3.11028881e-02 -6.11879478e-02 -3.16441811e-02 -3.79237439e-02\n",
            " -5.55683458e-02  6.00948262e-02  1.18831366e-01  5.09904872e-02\n",
            " -1.35084972e-01  6.18945006e-02  1.33115754e-01 -7.56937763e-02\n",
            "  1.04704057e-01 -2.65501512e-02  6.37688773e-03  5.61470807e-02\n",
            "  6.19366656e-03  5.50683444e-02  1.08677108e-01 -2.47222190e-02\n",
            " -8.07109970e-02 -8.62715583e-02 -6.33579365e-02  7.06544324e-02\n",
            " -1.20095571e-02 -9.36405178e-02 -5.30635490e-02  1.70349075e-01\n",
            " -1.76854868e-02  3.58556824e-02  3.87577078e-02  1.10204808e-01\n",
            " -7.83020354e-02  4.53935731e-02 -5.14477639e-02  7.33843443e-03\n",
            " -4.15703895e-02  1.16834726e-02  2.29775609e-01  5.31060786e-02\n",
            "  1.55609727e-02  5.79287371e-02 -8.52638851e-02 -1.07946625e-02\n",
            "  1.06080291e-01 -2.65717842e-02 -2.72487411e-02 -6.25433636e-02\n",
            "  1.65276201e-01 -8.10398523e-02  1.94962047e-01  4.65529292e-04\n",
            "  2.87888398e-02 -3.70995776e-02  1.54190973e-01 -2.18040181e-02\n",
            " -1.12304409e-01 -2.19085668e-02 -1.00793513e-01  3.98340607e-02\n",
            "  2.75839834e-02 -3.06642724e-02 -1.00892388e-01 -5.30873662e-02\n",
            " -1.34526834e-02  7.91621106e-03  1.04716855e-01 -1.27195531e-02\n",
            " -1.41333724e-01  6.55790303e-02 -6.19344631e-02  6.69071228e-02\n",
            " -8.97763068e-02 -4.66599886e-03  4.80835236e-02 -1.09021018e-01\n",
            " -2.55628318e-01  3.40422403e-02  1.94598186e-02  1.04205310e-01\n",
            "  1.42496437e-02  1.91983078e-01 -7.69526026e-02  6.60181636e-02\n",
            " -9.17582413e-02  8.38230864e-02  9.67643424e-02  8.70473684e-03\n",
            " -9.81685248e-02 -1.79284663e-01  1.96664018e-03 -1.20496201e-01\n",
            "  2.99679414e-02 -7.54879938e-02 -3.34830476e-02 -1.88075555e-01\n",
            "  2.26038635e-02  5.84266019e-02 -2.15141097e-02  1.65520200e-02\n",
            "  1.22432574e-01 -8.04779752e-02  3.65171716e-02  1.11378417e-01\n",
            " -4.57254693e-02 -1.35531587e-03  1.80811022e-04 -2.10580898e-01\n",
            " -1.10354993e-01  8.04252885e-02 -1.09064291e-01  1.53690309e-02\n",
            "  3.56915271e-02  3.38770752e-02 -1.48298267e-01 -8.12227852e-02\n",
            " -4.07012687e-02  5.40486261e-02 -2.69163512e-01  2.18121062e-04\n",
            "  7.34699316e-02  6.42124695e-02  1.40006710e-01 -9.00689829e-02\n",
            "  4.38879356e-02 -2.69794189e-02 -3.77221008e-02  5.32750097e-02\n",
            "  5.40891413e-02 -6.02446579e-02 -9.24581258e-02  1.08829123e-02\n",
            " -6.60245703e-02 -4.44691311e-02 -2.30709394e-02  9.42807030e-02\n",
            "  2.51500094e-02 -7.72251711e-02  9.32298962e-02  2.10888904e-01\n",
            " -8.05001932e-02  2.39626879e-01 -9.68781913e-02 -2.19743330e-02\n",
            "  4.18169363e-03  3.82833982e-02 -1.15350993e-01 -2.92204539e-02\n",
            " -7.32938142e-02  1.13141933e-01 -1.45700422e-02 -9.88937255e-02\n",
            "  1.56883752e-01  4.29117391e-02 -1.89751652e-01 -7.27014150e-02\n",
            " -8.53571929e-02 -8.56553645e-03 -1.37148555e-01 -4.41508056e-02\n",
            " -1.84799012e-02  8.01764713e-02 -3.93207941e-02 -1.60575110e-01\n",
            "  1.82381432e-01  5.17678308e-02 -1.09229981e-01 -1.93282901e-04\n",
            " -1.36211899e-01  7.16467288e-02 -2.24939289e-01  1.24855919e-01\n",
            "  1.59453073e-01 -3.58504786e-02 -3.92595013e-02 -1.56562939e-02\n",
            "  5.11413924e-03  1.29332852e-02 -1.90835982e-02 -4.65944532e-02\n",
            "  7.66579614e-02 -1.93683110e-01 -1.50757553e-02  7.35196401e-02\n",
            " -1.86568899e-02  6.39073539e-02  5.28720524e-02  5.08314862e-02\n",
            "  2.17139222e-02  6.32563071e-02 -1.35601834e-01  3.54674337e-02\n",
            "  3.95646617e-02 -5.16080228e-02  9.70856065e-02 -7.68789082e-04\n",
            " -4.94602061e-02 -1.01500722e-01  8.61640015e-02  9.64591543e-02\n",
            "  9.51227371e-02 -7.76699066e-02 -2.45127994e-02 -6.24223579e-02\n",
            " -2.58643242e-02  7.68131963e-02 -1.34381651e-01  2.93509817e-02\n",
            " -2.85876655e-02 -1.92049621e-02 -3.46178317e-03 -1.63785901e-01\n",
            " -2.25644793e-02  1.20668888e-01 -1.51360741e-01 -1.11673393e-01\n",
            "  1.42473489e-01 -3.81053452e-02  8.22528201e-02 -3.21716564e-02\n",
            " -1.57519031e-02 -1.83430100e-02  1.33613136e-01  8.37679322e-02\n",
            "  1.20247942e-01 -1.26234449e-02  8.66928715e-02 -1.32160225e-01\n",
            " -4.52352313e-02  6.68774771e-02 -4.14329023e-02  3.47106398e-02\n",
            " -4.89138120e-02  1.54010972e-01 -6.21287202e-03 -4.90149784e-02\n",
            "  5.94987568e-02 -9.19238985e-02 -1.17312276e-01  1.48196426e-01\n",
            " -5.19189412e-02  1.36573495e-01  2.86046573e-02  2.26171691e-02\n",
            "  1.41639417e-01  1.37430024e-01 -5.24923329e-02  1.97520640e-01\n",
            " -6.41200153e-02  3.50990862e-02  1.70516773e-02  1.64714912e-01\n",
            " -3.47985870e-02  1.08078773e-01  1.12266478e-01 -1.04598662e-01\n",
            " -8.52779661e-02  8.94599766e-03 -6.56849435e-02  9.39542469e-02\n",
            "  4.59091971e-02 -5.80747337e-02 -7.53662308e-02 -5.67014789e-02\n",
            " -1.57447616e-01  1.31381171e-01  1.20879653e-01  1.13446923e-02\n",
            "  7.92380067e-02  8.10217624e-02  3.48288545e-04  1.14514055e-01\n",
            "  1.18083911e-01 -1.01949300e-01  1.10576930e-01  1.37216739e-02\n",
            " -8.61221271e-02  2.42813201e-03  5.75926927e-03 -7.95872458e-02\n",
            " -4.90809024e-02  5.17281574e-03  1.59142030e-01  1.55508633e-01\n",
            "  8.42928063e-02 -9.06350033e-02  1.92196643e-02  2.17417025e-02\n",
            " -1.61840660e-01 -7.54759520e-02  1.02227563e-01 -6.70491020e-02\n",
            "  1.66115383e-01 -3.19154871e-02  1.48044329e-02  3.94041581e-03\n",
            "  3.78387595e-02 -4.97422125e-02 -9.90191937e-03  1.23829922e-01\n",
            " -4.90667087e-02 -8.89730374e-02  1.65716829e-02 -4.12271807e-02\n",
            " -7.33646846e-02  3.39170893e-02 -1.28191241e-01 -8.70425141e-02\n",
            "  1.40699132e-01 -1.40262288e-01 -2.48394164e-02 -4.76193341e-02\n",
            "  1.60283383e-01 -6.13939623e-02 -6.74966296e-02 -2.20947389e-02\n",
            "  7.45513851e-02  4.95299405e-02 -1.26062243e-01  6.52634252e-02\n",
            " -9.88693695e-02 -1.69156229e-01 -1.95577050e-01  2.15216791e-02\n",
            " -2.94819522e-02  9.35010223e-03  3.15020197e-02 -6.15993050e-02\n",
            "  1.06719683e-01 -2.67747336e-02 -6.83531874e-02 -4.14627095e-02\n",
            " -7.18345342e-02 -5.93171205e-02  8.59551253e-02 -2.64799366e-02\n",
            " -2.39799752e-02  7.36857061e-02 -1.52356216e-01 -2.01845581e-02\n",
            "  2.04151853e-02 -2.34296676e-01 -9.83889127e-02 -1.33792233e-01\n",
            "  7.84389168e-02  2.85550868e-02  1.04357029e-01  1.44914716e-01\n",
            "  7.67953863e-02 -1.86424674e-01 -6.38280572e-02  9.18406824e-02\n",
            " -2.87994192e-02 -1.16232865e-02 -5.10029984e-02 -1.85875450e-02\n",
            "  9.73987412e-02 -3.10451494e-02 -9.35598271e-02 -1.02654990e-03\n",
            "  9.58874702e-02 -1.20265597e-01 -9.10282725e-02  1.40868956e-02\n",
            "  9.74124305e-02  1.69642287e-01  2.43825692e-02 -9.63897444e-02\n",
            "  3.72665107e-02  5.03359995e-02 -4.02242359e-02 -1.00852531e-01\n",
            " -3.00996128e-03 -4.48590614e-02 -6.41077344e-02  1.37635208e-02\n",
            " -2.33561179e-01 -2.79545806e-02 -1.08675503e-01 -1.32870890e-01\n",
            "  5.56203823e-02  8.72416924e-03 -8.63962786e-02 -1.89616135e-02\n",
            " -6.90365459e-02 -1.46988274e-01 -6.61918145e-02 -1.16533745e-01\n",
            " -8.70683194e-02  1.15459179e-01 -9.44006631e-02  3.94290887e-02\n",
            " -8.74773421e-02 -2.72903985e-02 -8.59436234e-02  4.22281818e-02\n",
            " -6.18442297e-02  4.89849196e-03 -1.18111759e-01 -4.22003549e-03\n",
            "  1.01014722e-01  7.14114877e-02  2.20203742e-01 -1.37888641e-02\n",
            " -2.16603391e-01 -6.73114583e-02  4.43746583e-02  1.29107617e-01\n",
            "  5.65062196e-02  1.37866682e-01 -1.11063947e-02 -1.36074653e-02\n",
            "  1.32995162e-01 -1.77949170e-01 -6.79153825e-02  9.62250316e-02\n",
            "  2.06370418e-02 -2.12189743e-02 -1.92005877e-02 -9.72960155e-03\n",
            " -9.99313654e-02  1.28758993e-01 -1.17697175e-01  1.01951038e-01\n",
            "  5.70345786e-03  6.18967113e-02 -8.11873488e-02  7.25091824e-02\n",
            "  1.97701208e-02 -4.12000183e-02  4.12199765e-02  2.71862840e-02\n",
            " -1.45388356e-01  9.04523100e-02 -1.80460411e-01  1.54363441e-01\n",
            "  3.64026012e-02  7.09573004e-02  3.27391662e-02 -2.00705274e-01\n",
            " -6.58450378e-03  1.12932466e-01  3.68759166e-02 -4.37761018e-02\n",
            "  2.34334221e-02  8.68590264e-02 -7.94838574e-03  5.35187716e-02\n",
            "  8.79653459e-02  1.43162024e-02  1.45588924e-01 -3.42778621e-02\n",
            " -6.72259964e-02  2.04448850e-01  3.85011150e-02 -2.30453981e-02\n",
            " -9.93712994e-02 -8.61809591e-02  4.84688535e-02  1.78753692e-01\n",
            "  2.47855010e-01 -8.09410134e-02  1.31154314e-01  3.62192057e-02\n",
            " -1.12716252e-01  7.01758831e-02 -3.80000179e-02  1.50759175e-01\n",
            "  2.56867634e-01 -4.91943279e-02  1.08954787e-01  6.51716032e-02\n",
            "  1.33446406e-02 -6.50435499e-02 -8.66802997e-02  8.86627764e-02\n",
            "  5.28843587e-02  1.41683675e-02  3.20544431e-02  8.67958869e-02\n",
            "  1.66498897e-01 -3.22552001e-02  1.03377381e-01 -1.03780021e-01\n",
            " -1.02325330e-02 -3.26689206e-01 -3.19207534e-02  1.71771506e-01\n",
            " -9.71314711e-02  1.65493030e-01  6.78489614e-02 -1.51181943e-01\n",
            " -1.15584181e-01  9.20095300e-02 -2.01476734e-02  8.18605938e-02\n",
            " -1.28213914e-01  2.35506759e-01 -7.12149992e-02  6.18358956e-02\n",
            "  2.47154594e-01  4.30264948e-02 -1.58037629e-02 -4.48687329e-03\n",
            " -4.96608595e-02  1.67447851e-02  2.76397730e-02 -3.88730382e-02\n",
            "  1.70060732e-01 -2.84432191e-02  2.00065117e-02 -1.75863676e-01\n",
            "  7.66647861e-02  1.17774495e-01  6.16685186e-02  1.75379590e-01\n",
            " -5.68709092e-02  9.12840417e-02  2.61408327e-04  9.20234305e-03\n",
            " -3.03583412e-02  1.31536850e-02  1.51090279e-01  4.20263557e-02\n",
            "  1.47011433e-01 -1.45699230e-01 -4.54502886e-03 -7.12866552e-02\n",
            "  7.78469431e-02  2.00365436e-01 -4.39734816e-02 -9.39670046e-02\n",
            "  7.08438377e-02  4.78391379e-02  1.17941662e-01  2.83873575e-02\n",
            " -1.43687350e-01  9.94022706e-02  6.97589139e-02  1.93710837e-01\n",
            "  8.75689699e-02 -6.68021045e-02  4.33854966e-03  1.27365586e-01\n",
            " -9.68822849e-02 -1.98526581e-02  2.48428818e-01 -1.36310915e-01\n",
            " -9.66413503e-02 -2.27493388e-02  6.66647324e-02  2.74879748e-02\n",
            " -7.74940687e-02  5.96034867e-03  3.25668676e-02 -1.18801836e-01\n",
            "  7.98232237e-02 -6.94520933e-03 -5.37264469e-02  1.38181559e-01\n",
            "  1.40091221e-01  2.66990245e-01 -1.77819244e-01  2.06229623e-02\n",
            "  5.56432078e-02 -1.71965425e-02 -1.57077554e-01 -4.20503703e-02\n",
            " -1.29815888e-01 -1.91735937e-01  7.17974677e-02  1.48439319e-01\n",
            " -8.61226794e-02 -2.46270468e-02 -1.88814040e-01 -2.34984136e-02\n",
            "  9.85953450e-02 -1.17841890e-01  2.41563967e-01 -8.27807399e-02\n",
            "  5.64440599e-02  8.68090229e-02  4.13517721e-02  7.12262821e-04\n",
            "  4.14996986e-02  1.41050880e-01  2.84825503e-02 -3.95304009e-02\n",
            "  1.01443194e-01  1.26481559e-02 -6.77788632e-02 -8.58697694e-02\n",
            " -1.66844106e-01  1.32479278e-01 -1.41361956e-02 -4.47364465e-02\n",
            " -1.75280592e-01 -1.12924306e-01 -7.08520145e-02  3.08387174e-02\n",
            "  2.17276169e-02 -4.21632846e-02 -1.63741555e-01 -2.48181570e-02\n",
            "  1.18128249e-01 -2.20526440e-02  9.32974788e-02  8.94404241e-02\n",
            "  8.40008678e-02  5.06410662e-02  1.64855630e-02  9.74274705e-02\n",
            " -3.28173332e-02  7.19295605e-03 -1.27911838e-02 -2.69782258e-02\n",
            " -8.32725117e-02 -5.31178738e-02 -1.65980878e-02  2.00926939e-02\n",
            " -1.50809759e-01 -5.48401780e-02 -6.17334873e-02  1.11204532e-01\n",
            "  1.83600888e-02 -1.58870587e-01 -1.06871600e-01 -4.13826993e-02\n",
            "  6.26673708e-02 -7.02933012e-02  1.61028868e-01 -1.53971855e-02\n",
            " -1.26533743e-02 -1.81566502e-01 -1.46780573e-01  4.49783990e-02\n",
            " -1.22791062e-01 -5.72754575e-02 -3.37205492e-02  1.95400410e-02\n",
            "  5.66949958e-02  2.66578375e-01  1.06537525e-01  4.60692771e-03\n",
            "  3.60842606e-02 -5.53174604e-04  6.09244287e-02 -4.54687514e-02\n",
            " -1.49343547e-01 -1.15504894e-01 -1.31020308e-01  1.77059796e-01\n",
            " -6.22504743e-02  5.00713361e-02  3.86307914e-04  1.23476550e-01\n",
            "  6.06384256e-03 -7.68684531e-02 -9.68904390e-02  8.23024628e-02\n",
            "  7.61654157e-03  8.95808914e-02  4.67080643e-02 -1.26865052e-01\n",
            " -9.67336422e-02  1.90204726e-01 -3.40483313e-01  2.69617917e-02\n",
            "  1.65405896e-01  5.05902708e-03 -3.32311392e-02 -1.56061807e-01\n",
            "  2.12637992e-01  1.23029999e-01 -1.05143081e-01  8.33842358e-03]\n"
          ]
        }
      ]
    },
    {
      "cell_type": "markdown",
      "source": [
        "EXERCISE"
      ],
      "metadata": {
        "id": "mDWgGr8hw48m"
      }
    },
    {
      "cell_type": "code",
      "source": [
        "# Simulating a six-sided dice\n",
        "die = np.random.choice([1,2,3,4,5,6],10)\n",
        "print(die)"
      ],
      "metadata": {
        "colab": {
          "base_uri": "https://localhost:8080/"
        },
        "id": "GMSfgRoCwxpS",
        "outputId": "3447109b-c9ad-4e9a-f04b-a72666507ca8"
      },
      "execution_count": 94,
      "outputs": [
        {
          "output_type": "stream",
          "name": "stdout",
          "text": [
            "[3 5 3 4 2 6 5 4 2 2]\n"
          ]
        }
      ]
    },
    {
      "cell_type": "code",
      "source": [
        "# Simulating a two_sided coin toss which is biased\n",
        "coin = np.random.choice(['Head','Tail'],10,p=[0.67,0.33])\n",
        "print(coin)"
      ],
      "metadata": {
        "colab": {
          "base_uri": "https://localhost:8080/"
        },
        "id": "mr96-D5zxP6y",
        "outputId": "67eab946-6127-43e6-db6c-8301791f9da7"
      },
      "execution_count": 98,
      "outputs": [
        {
          "output_type": "stream",
          "name": "stdout",
          "text": [
            "['Head' 'Head' 'Head' 'Head' 'Head' 'Tail' 'Head' 'Tail' 'Tail' 'Head']\n"
          ]
        }
      ]
    },
    {
      "cell_type": "code",
      "source": [
        ""
      ],
      "metadata": {
        "id": "WixFCZVzx30p"
      },
      "execution_count": null,
      "outputs": []
    }
  ]
}