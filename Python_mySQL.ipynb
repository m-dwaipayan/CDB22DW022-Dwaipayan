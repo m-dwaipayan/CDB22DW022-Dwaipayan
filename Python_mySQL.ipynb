{
 "cells": [
  {
   "cell_type": "code",
   "execution_count": 10,
   "id": "de2febef",
   "metadata": {},
   "outputs": [
    {
     "name": "stdout",
     "output_type": "stream",
     "text": [
      "Requirement already satisfied: mysql-connector-python in c:\\users\\user\\anaconda3\\lib\\site-packages (8.0.30)\n",
      "Requirement already satisfied: protobuf<=3.20.1,>=3.11.0 in c:\\users\\user\\anaconda3\\lib\\site-packages (from mysql-connector-python) (3.19.1)\n",
      "Note: you may need to restart the kernel to use updated packages.\n"
     ]
    }
   ],
   "source": [
    "pip install mysql-connector-python"
   ]
  },
  {
   "cell_type": "code",
   "execution_count": 1,
   "id": "bece83b6",
   "metadata": {},
   "outputs": [],
   "source": [
    "import mysql.connector"
   ]
  },
  {
   "cell_type": "code",
   "execution_count": 2,
   "id": "6472865a",
   "metadata": {},
   "outputs": [
    {
     "name": "stdout",
     "output_type": "stream",
     "text": [
      "<mysql.connector.connection_cext.CMySQLConnection object at 0x0000021D338D5700>\n"
     ]
    }
   ],
   "source": [
    "dbs = mysql.connector.connect(host = \"localhost\",user=\"root\",password=\"Crocin007\")\n",
    "print(dbs)"
   ]
  },
  {
   "cell_type": "markdown",
   "id": "c07c2f54",
   "metadata": {},
   "source": [
    "Creating a database"
   ]
  },
  {
   "cell_type": "code",
   "execution_count": 4,
   "id": "f07c36e9",
   "metadata": {},
   "outputs": [],
   "source": [
    "mycursor = dbs.cursor()\n",
    "mycursor.execute(\"CREATE DATABASE train\")"
   ]
  },
  {
   "cell_type": "code",
   "execution_count": 5,
   "id": "7e00003b",
   "metadata": {},
   "outputs": [],
   "source": [
    "mycursor = dbs.cursor()\n",
    "mycursor.execute(\"SHOW DATABASES\")"
   ]
  },
  {
   "cell_type": "code",
   "execution_count": 6,
   "id": "8ed8b3c4",
   "metadata": {},
   "outputs": [
    {
     "name": "stdout",
     "output_type": "stream",
     "text": [
      "('assignmentdb',)\n",
      "('bank',)\n",
      "('flight',)\n",
      "('handson',)\n",
      "('information_schema',)\n",
      "('loan',)\n",
      "('mysql',)\n",
      "('performance_schema',)\n",
      "('practicedb',)\n",
      "('sakila',)\n",
      "('sys',)\n",
      "('train',)\n",
      "('training',)\n",
      "('trialdatabase',)\n",
      "('video',)\n",
      "('world',)\n"
     ]
    }
   ],
   "source": [
    "for x in mycursor:\n",
    "    print(x)"
   ]
  },
  {
   "cell_type": "code",
   "execution_count": 7,
   "id": "6c080013",
   "metadata": {},
   "outputs": [],
   "source": [
    "# Using database train\n",
    "mycursor = dbs.cursor()\n",
    "mycursor.execute(\"USE train\")"
   ]
  },
  {
   "cell_type": "code",
   "execution_count": 8,
   "id": "9b8b4084",
   "metadata": {},
   "outputs": [],
   "source": [
    "# Creating a table\n",
    "mycursor = dbs.cursor()\n",
    "mycursor.execute(\"CREATE TABLE info(id INT(10) PRIMARY KEY, name VARCHAR(25), age INT(10), address VARCHAR(200))\")"
   ]
  },
  {
   "cell_type": "code",
   "execution_count": 9,
   "id": "62471b5e",
   "metadata": {},
   "outputs": [
    {
     "name": "stdout",
     "output_type": "stream",
     "text": [
      "('info',)\n"
     ]
    }
   ],
   "source": [
    "# Reading the table\n",
    "mycursor = dbs.cursor()\n",
    "mycursor.execute(\"SHOW TABLES\")\n",
    "\n",
    "for x in mycursor:\n",
    "    print(x)"
   ]
  },
  {
   "cell_type": "code",
   "execution_count": 10,
   "id": "bf1d49d6",
   "metadata": {},
   "outputs": [],
   "source": [
    "# Updating the table\n",
    "mycursor = dbs.cursor()\n",
    "mycursor.execute(\"ALTER TABLE info ADD COLUMN salary INT(10)\")"
   ]
  },
  {
   "cell_type": "code",
   "execution_count": 11,
   "id": "da4237eb",
   "metadata": {},
   "outputs": [],
   "source": [
    "mycursor = dbs.cursor()\n",
    "mycursor.execute(\"DESCRIBE info\")"
   ]
  },
  {
   "cell_type": "code",
   "execution_count": 12,
   "id": "dd518878",
   "metadata": {},
   "outputs": [
    {
     "name": "stdout",
     "output_type": "stream",
     "text": [
      "('id', b'int', 'NO', 'PRI', None, '')\n",
      "('name', b'varchar(25)', 'YES', '', None, '')\n",
      "('age', b'int', 'YES', '', None, '')\n",
      "('address', b'varchar(200)', 'YES', '', None, '')\n",
      "('salary', b'int', 'YES', '', None, '')\n"
     ]
    }
   ],
   "source": [
    "for x in mycursor:\n",
    "    print(x)"
   ]
  },
  {
   "cell_type": "code",
   "execution_count": 13,
   "id": "a9738ae8",
   "metadata": {},
   "outputs": [],
   "source": [
    "# Deleting the table\n",
    "mycursor = dbs.cursor()\n",
    "mycursor.execute(\"DROP TABLE info\")"
   ]
  },
  {
   "cell_type": "code",
   "execution_count": 14,
   "id": "52599cc3",
   "metadata": {},
   "outputs": [],
   "source": [
    "mycursor = dbs.cursor()\n",
    "mycursor.execute(\"SHOW TABLES\")\n",
    "\n",
    "for x in mycursor:\n",
    "    print(x)"
   ]
  },
  {
   "cell_type": "code",
   "execution_count": null,
   "id": "924205ca",
   "metadata": {},
   "outputs": [],
   "source": []
  }
 ],
 "metadata": {
  "kernelspec": {
   "display_name": "Python 3 (ipykernel)",
   "language": "python",
   "name": "python3"
  },
  "language_info": {
   "codemirror_mode": {
    "name": "ipython",
    "version": 3
   },
   "file_extension": ".py",
   "mimetype": "text/x-python",
   "name": "python",
   "nbconvert_exporter": "python",
   "pygments_lexer": "ipython3",
   "version": "3.9.12"
  }
 },
 "nbformat": 4,
 "nbformat_minor": 5
}
