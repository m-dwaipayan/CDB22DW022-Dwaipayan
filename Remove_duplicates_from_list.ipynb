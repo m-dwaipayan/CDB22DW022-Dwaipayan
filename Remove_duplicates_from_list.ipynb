{
  "nbformat": 4,
  "nbformat_minor": 0,
  "metadata": {
    "colab": {
      "name": "Remove duplicates from list.ipynb",
      "provenance": [],
      "authorship_tag": "ABX9TyMfSvtIMfFyvbBQ3eTPWFuR",
      "include_colab_link": true
    },
    "kernelspec": {
      "name": "python3",
      "display_name": "Python 3"
    },
    "language_info": {
      "name": "python"
    }
  },
  "cells": [
    {
      "cell_type": "markdown",
      "metadata": {
        "id": "view-in-github",
        "colab_type": "text"
      },
      "source": [
        "<a href=\"https://colab.research.google.com/github/m-dwaipayan/CDB22DW022-Dwaipayan/blob/main/Remove_duplicates_from_list.ipynb\" target=\"_parent\"><img src=\"https://colab.research.google.com/assets/colab-badge.svg\" alt=\"Open In Colab\"/></a>"
      ]
    },
    {
      "cell_type": "code",
      "execution_count": 17,
      "metadata": {
        "colab": {
          "base_uri": "https://localhost:8080/"
        },
        "id": "Lu1FuFt4iH2E",
        "outputId": "20ac02bb-3178-411a-d66b-96cf8af8142a"
      },
      "outputs": [
        {
          "output_type": "stream",
          "name": "stdout",
          "text": [
            "Enter number of elements: 6\n",
            "Enter number 1: 2\n",
            "Enter number 2: 88\n",
            "Enter number 3: 91\n",
            "Enter number 4: 91\n",
            "Enter number 5: 45\n",
            "Enter number 6: 88\n",
            "The original list is: [2, 88, 91, 91, 45, 88]\n"
          ]
        }
      ],
      "source": [
        "list1 = []\n",
        "n = int(input(\"Enter number of elements: \"))\n",
        "for no in range(0,n):\n",
        "  num = no + 1\n",
        "  element = int(input(\"Enter number {}: \".format(num)))\n",
        "  list1.append(element)\n",
        "\n",
        "print(\"The original list is: {}\".format(list1))\n"
      ]
    },
    {
      "cell_type": "code",
      "source": [
        "\n"
      ],
      "metadata": {
        "id": "PTcCnYEynGas"
      },
      "execution_count": 2,
      "outputs": []
    },
    {
      "cell_type": "code",
      "source": [
        "new_list = []\n",
        "for number in list1:\n",
        "  if number not in new_list:\n",
        "    new_list.append(number)\n",
        "\n",
        "print(new_list)"
      ],
      "metadata": {
        "colab": {
          "base_uri": "https://localhost:8080/"
        },
        "id": "7MN1g2nMnyFi",
        "outputId": "7057d656-ea5c-46e7-be62-96bbd962635c"
      },
      "execution_count": 18,
      "outputs": [
        {
          "output_type": "stream",
          "name": "stdout",
          "text": [
            "[2, 88, 91, 45]\n"
          ]
        }
      ]
    },
    {
      "cell_type": "code",
      "source": [
        ""
      ],
      "metadata": {
        "id": "eQYt1QGyohsY"
      },
      "execution_count": null,
      "outputs": []
    }
  ]
}