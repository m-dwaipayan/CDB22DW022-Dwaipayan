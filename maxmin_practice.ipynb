{
  "nbformat": 4,
  "nbformat_minor": 0,
  "metadata": {
    "colab": {
      "name": "maxmin_practice.ipynb",
      "provenance": [],
      "authorship_tag": "ABX9TyMoCacXuuslk2qHHzZvogzP",
      "include_colab_link": true
    },
    "kernelspec": {
      "name": "python3",
      "display_name": "Python 3"
    },
    "language_info": {
      "name": "python"
    }
  },
  "cells": [
    {
      "cell_type": "markdown",
      "metadata": {
        "id": "view-in-github",
        "colab_type": "text"
      },
      "source": [
        "<a href=\"https://colab.research.google.com/github/m-dwaipayan/CDB22DW022-Dwaipayan/blob/main/maxmin_practice.ipynb\" target=\"_parent\"><img src=\"https://colab.research.google.com/assets/colab-badge.svg\" alt=\"Open In Colab\"/></a>"
      ]
    },
    {
      "cell_type": "code",
      "execution_count": 2,
      "metadata": {
        "colab": {
          "base_uri": "https://localhost:8080/"
        },
        "id": "4HO0KSuRcXBt",
        "outputId": "8e8ccecb-a1f5-4050-ec61-1fdb7fe9c729"
      },
      "outputs": [
        {
          "output_type": "stream",
          "name": "stdout",
          "text": [
            "Writing script_max.py\n"
          ]
        }
      ],
      "source": [
        "%%writefile script_max.py\n",
        "n1 = int(input(\"Enter first number: \"))\n",
        "n2 = int(input(\"Enter second number: \"))\n",
        "if n1 > n2:\n",
        "  print(n1)\n",
        "else:\n",
        "  print(n2)"
      ]
    },
    {
      "cell_type": "code",
      "source": [
        "%%writefile script_min.py\n",
        "n1 = int(input(\"Enter first number: \"))\n",
        "n2 = int(input(\"Enter second number: \"))\n",
        "if n1 < n2:\n",
        "  print(n1)\n",
        "else:\n",
        "  print(n2)"
      ],
      "metadata": {
        "colab": {
          "base_uri": "https://localhost:8080/"
        },
        "id": "Ygp-PCWedqVz",
        "outputId": "0ee36c66-ba07-49a8-eec5-24da1b40a6ad"
      },
      "execution_count": 4,
      "outputs": [
        {
          "output_type": "stream",
          "name": "stdout",
          "text": [
            "Writing script_min.py\n"
          ]
        }
      ]
    },
    {
      "cell_type": "code",
      "source": [
        ""
      ],
      "metadata": {
        "id": "kJD8RR5DeS6b"
      },
      "execution_count": null,
      "outputs": []
    }
  ]
}