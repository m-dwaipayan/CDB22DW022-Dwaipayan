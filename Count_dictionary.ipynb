{
  "nbformat": 4,
  "nbformat_minor": 0,
  "metadata": {
    "colab": {
      "name": "Count dictionary.ipynb",
      "provenance": [],
      "authorship_tag": "ABX9TyNHyoLlqYCxmVQ5K0aDPJWf",
      "include_colab_link": true
    },
    "kernelspec": {
      "name": "python3",
      "display_name": "Python 3"
    },
    "language_info": {
      "name": "python"
    }
  },
  "cells": [
    {
      "cell_type": "markdown",
      "metadata": {
        "id": "view-in-github",
        "colab_type": "text"
      },
      "source": [
        "<a href=\"https://colab.research.google.com/github/m-dwaipayan/CDB22DW022-Dwaipayan/blob/main/Count_dictionary.ipynb\" target=\"_parent\"><img src=\"https://colab.research.google.com/assets/colab-badge.svg\" alt=\"Open In Colab\"/></a>"
      ]
    },
    {
      "cell_type": "code",
      "execution_count": 5,
      "metadata": {
        "colab": {
          "base_uri": "https://localhost:8080/"
        },
        "id": "tERUjSbR3gmc",
        "outputId": "5265e2cd-a713-4bb7-d661-5b83d54f82e2"
      },
      "outputs": [
        {
          "output_type": "stream",
          "name": "stdout",
          "text": [
            "Enter the string: hello how are you? how are the potatoes?\n",
            "Your input:  hello how are you? how are the potatoes?\n",
            "The count dictionary:  {'hello': 1, 'how': 2, 'are': 2, 'you?': 1, 'the': 1, 'potatoes?': 1}\n"
          ]
        }
      ],
      "source": [
        "#Input a string and convert into count dictionary\n",
        "in_str = input(\"Enter the string: \")\n",
        "print(\"Your input: \",in_str)\n",
        "\n",
        "lst = in_str.split()\n",
        "appear = [lst.count(i) for i in lst]\n",
        "\n",
        "count_dic = dict(zip(lst,appear))\n",
        "print(\"The count dictionary: \",count_dic)\n",
        "\n",
        "\n"
      ]
    },
    {
      "cell_type": "code",
      "source": [
        ""
      ],
      "metadata": {
        "id": "w3frcO5f4VDo"
      },
      "execution_count": 2,
      "outputs": []
    }
  ]
}