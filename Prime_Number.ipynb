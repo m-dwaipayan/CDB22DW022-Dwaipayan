{
  "nbformat": 4,
  "nbformat_minor": 0,
  "metadata": {
    "colab": {
      "name": "Prime Number.ipynb",
      "provenance": [],
      "collapsed_sections": [],
      "authorship_tag": "ABX9TyMPtjaKpCWtBoHPxk/U/6BC",
      "include_colab_link": true
    },
    "kernelspec": {
      "name": "python3",
      "display_name": "Python 3"
    },
    "language_info": {
      "name": "python"
    }
  },
  "cells": [
    {
      "cell_type": "markdown",
      "metadata": {
        "id": "view-in-github",
        "colab_type": "text"
      },
      "source": [
        "<a href=\"https://colab.research.google.com/github/m-dwaipayan/CDB22DW022-Dwaipayan/blob/main/Prime_Number.ipynb\" target=\"_parent\"><img src=\"https://colab.research.google.com/assets/colab-badge.svg\" alt=\"Open In Colab\"/></a>"
      ]
    },
    {
      "cell_type": "code",
      "execution_count": 8,
      "metadata": {
        "colab": {
          "base_uri": "https://localhost:8080/"
        },
        "id": "I3qvGHPNyCNQ",
        "outputId": "2cce821c-2ace-4418-b134-c4dde482d972"
      },
      "outputs": [
        {
          "output_type": "stream",
          "name": "stdout",
          "text": [
            "Enter the number: 37\n",
            "The number is prime.\n"
          ]
        }
      ],
      "source": [
        "# Checking whether a number is prime or not\n",
        "num = int(input(\"Enter the number: \"))\n",
        "check = False \n",
        "if num > 1:\n",
        "  for i in range(2,num):\n",
        "    if num % i == 0:\n",
        "      check = True\n",
        "      break\n",
        "  if check == True:\n",
        "    print(\"The number is not prime.\")\n",
        "  else:\n",
        "    print(\"The number is prime.\")\n",
        "\n",
        "else:\n",
        "  print('The number is prime.')"
      ]
    },
    {
      "cell_type": "code",
      "source": [
        ""
      ],
      "metadata": {
        "id": "9AAn6z1kzUdk"
      },
      "execution_count": null,
      "outputs": []
    }
  ]
}