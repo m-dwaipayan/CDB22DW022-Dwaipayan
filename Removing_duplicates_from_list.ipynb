{
  "nbformat": 4,
  "nbformat_minor": 0,
  "metadata": {
    "colab": {
      "name": "Removing duplicates from list.ipynb",
      "provenance": [],
      "authorship_tag": "ABX9TyP97p8tMryMQMRW0AQqPSsL",
      "include_colab_link": true
    },
    "kernelspec": {
      "name": "python3",
      "display_name": "Python 3"
    },
    "language_info": {
      "name": "python"
    }
  },
  "cells": [
    {
      "cell_type": "markdown",
      "metadata": {
        "id": "view-in-github",
        "colab_type": "text"
      },
      "source": [
        "<a href=\"https://colab.research.google.com/github/m-dwaipayan/CDB22DW022-Dwaipayan/blob/main/Removing_duplicates_from_list.ipynb\" target=\"_parent\"><img src=\"https://colab.research.google.com/assets/colab-badge.svg\" alt=\"Open In Colab\"/></a>"
      ]
    },
    {
      "cell_type": "code",
      "execution_count": 7,
      "metadata": {
        "colab": {
          "base_uri": "https://localhost:8080/"
        },
        "id": "Lu1FuFt4iH2E",
        "outputId": "7195d551-1d15-4cc5-dca2-5e9900eed16a"
      },
      "outputs": [
        {
          "output_type": "stream",
          "name": "stdout",
          "text": [
            "Enter number of elements: 6\n",
            "45\n",
            "45\n",
            "32\n",
            "142\n",
            "142\n",
            "142\n",
            "[45, 45, 32, 142, 142, 142]\n"
          ]
        }
      ],
      "source": [
        "list1 = []\n",
        "n = int(input(\"Enter number of elements: \"))\n",
        "for no in range(0,n):\n",
        "  element = int(input())\n",
        "  list1.append(element)\n",
        "\n",
        "print(list1)\n"
      ]
    },
    {
      "cell_type": "code",
      "source": [
        ""
      ],
      "metadata": {
        "id": "PTcCnYEynGas"
      },
      "execution_count": 2,
      "outputs": []
    },
    {
      "cell_type": "code",
      "source": [
        "new_list = []\n",
        "for number in list1:\n",
        "  if number not in new_list:\n",
        "    new_list.append(number)\n",
        "\n",
        "print(new_list)"
      ],
      "metadata": {
        "colab": {
          "base_uri": "https://localhost:8080/"
        },
        "id": "7MN1g2nMnyFi",
        "outputId": "ad9879cd-dd64-4deb-97a2-07f512c1a0b7"
      },
      "execution_count": 8,
      "outputs": [
        {
          "output_type": "stream",
          "name": "stdout",
          "text": [
            "[45, 32, 142]\n"
          ]
        }
      ]
    },
    {
      "cell_type": "code",
      "source": [
        ""
      ],
      "metadata": {
        "id": "eQYt1QGyohsY"
      },
      "execution_count": null,
      "outputs": []
    }
  ]
}